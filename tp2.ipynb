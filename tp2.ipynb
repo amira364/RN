{
  "nbformat": 4,
  "nbformat_minor": 0,
  "metadata": {
    "colab": {
      "provenance": [],
      "authorship_tag": "ABX9TyM9c+sa1X9eIjElbAdW7E+/",
      "include_colab_link": true
    },
    "kernelspec": {
      "name": "python3",
      "display_name": "Python 3"
    },
    "language_info": {
      "name": "python"
    }
  },
  "cells": [
    {
      "cell_type": "markdown",
      "metadata": {
        "id": "view-in-github",
        "colab_type": "text"
      },
      "source": [
        "<a href=\"https://colab.research.google.com/github/amira364/RN/blob/main/tp2.ipynb\" target=\"_parent\"><img src=\"https://colab.research.google.com/assets/colab-badge.svg\" alt=\"Open In Colab\"/></a>"
      ]
    },
    {
      "cell_type": "code",
      "execution_count": null,
      "metadata": {
        "id": "M-r5caYPGPyk"
      },
      "outputs": [],
      "source": [
        "import pandas as pd\n",
        "import seaborn as sb\n",
        "from sklearn.model_selection import train_test_split\n",
        "from sklearn.neural_network import MLPClassifier\n",
        "from sklearn import metrics"
      ]
    },
    {
      "cell_type": "markdown",
      "source": [
        "## 1- Créer Un DataFrame en utilisant les données de fichier ‘’Iris.csv” qui contient notre dataSet."
      ],
      "metadata": {
        "id": "RcGzZ6xwOQ27"
      }
    },
    {
      "cell_type": "code",
      "source": [
        "df = pd.read_csv('Iris.csv')"
      ],
      "metadata": {
        "id": "_tqSuXAVOTj0"
      },
      "execution_count": null,
      "outputs": []
    },
    {
      "cell_type": "markdown",
      "source": [
        "## 2-Afficher les 10 premières lignes du DataFrame."
      ],
      "metadata": {
        "id": "mTT_dCnAPbFQ"
      }
    },
    {
      "cell_type": "code",
      "source": [
        "print(df.head(10))"
      ],
      "metadata": {
        "colab": {
          "base_uri": "https://localhost:8080/"
        },
        "id": "G1MIPURbPfJ5",
        "outputId": "bcc17e8f-3e4e-4100-ace3-6082c271341d"
      },
      "execution_count": null,
      "outputs": [
        {
          "output_type": "stream",
          "name": "stdout",
          "text": [
            "   Id  SepalLengthCm  SepalWidthCm  PetalLengthCm  PetalWidthCm      Species\n",
            "0   1            5.1           3.5            1.4           0.2  Iris-setosa\n",
            "1   2            4.9           3.0            1.4           0.2  Iris-setosa\n",
            "2   3            4.7           3.2            1.3           0.2  Iris-setosa\n",
            "3   4            4.6           3.1            1.5           0.2  Iris-setosa\n",
            "4   5            5.0           3.6            1.4           0.2  Iris-setosa\n",
            "5   6            5.4           3.9            1.7           0.4  Iris-setosa\n",
            "6   7            4.6           3.4            1.4           0.3  Iris-setosa\n",
            "7   8            5.0           3.4            1.5           0.2  Iris-setosa\n",
            "8   9            4.4           2.9            1.4           0.2  Iris-setosa\n",
            "9  10            4.9           3.1            1.5           0.1  Iris-setosa\n"
          ]
        }
      ]
    },
    {
      "cell_type": "markdown",
      "source": [
        "## 3-Afficher les dimensions du dataframe.\n",
        "\n",
        "\n"
      ],
      "metadata": {
        "id": "uH0oo3wkPxh3"
      }
    },
    {
      "cell_type": "code",
      "source": [
        "df.shape"
      ],
      "metadata": {
        "colab": {
          "base_uri": "https://localhost:8080/"
        },
        "id": "ZqWuROHuP3Nn",
        "outputId": "cfa16bd3-6502-4701-ee90-85e028450ae7"
      },
      "execution_count": null,
      "outputs": [
        {
          "output_type": "execute_result",
          "data": {
            "text/plain": [
              "(150, 6)"
            ]
          },
          "metadata": {},
          "execution_count": 71
        }
      ]
    },
    {
      "cell_type": "markdown",
      "source": [
        "## 4-Utiliser la bibliothèque python Seaborn pour visualiser les données en fonction de la longueur des pétales et de largeur des sépales."
      ],
      "metadata": {
        "id": "QPesg61lQK5H"
      }
    },
    {
      "cell_type": "code",
      "source": [
        "fg = sb.scatterplot(x=df['PetalLengthCm'], y=df['SepalWidthCm'])"
      ],
      "metadata": {
        "colab": {
          "base_uri": "https://localhost:8080/",
          "height": 282
        },
        "id": "U8Kh27ghQL38",
        "outputId": "46ed7553-cfc6-4c74-f07b-49a912eb0c99"
      },
      "execution_count": null,
      "outputs": [
        {
          "output_type": "display_data",
          "data": {
            "text/plain": [
              "<Figure size 432x288 with 1 Axes>"
            ],
            "image/png": "[encoded data removed]"
          },
          "metadata": {
            "needs_background": "light"
          }
        }
      ]
    },
    {
      "cell_type": "markdown",
      "source": [
        "## 5-Ecrire un script python permettant de labelliser les différentes espèces d’iris.( Iris_Setosa → 0 ,Iris_Versicolor→ 1 et Iris_Virginica → 2 )"
      ],
      "metadata": {
        "id": "nb3u41NOVC5v"
      }
    },
    {
      "cell_type": "code",
      "source": [
        "df['Species'] = df['Species'].replace(['Iris-setosa'], '0')\n",
        "df['Species'] = df['Species'].replace(['Iris-versicolor'], '1')\n",
        "df['Species'] = df['Species'].replace(['Iris-virginica'], '2')"
      ],
      "metadata": {
        "id": "QIIetqL5VLnz"
      },
      "execution_count": null,
      "outputs": []
    },
    {
      "cell_type": "markdown",
      "source": [
        "## 6-Afficher du nouveau les 10 premières lignes du nouveau DataFrame contenant les labels."
      ],
      "metadata": {
        "id": "txkZZ4n2kPb7"
      }
    },
    {
      "cell_type": "code",
      "source": [
        "print(df.head(10))"
      ],
      "metadata": {
        "colab": {
          "base_uri": "https://localhost:8080/"
        },
        "id": "_UWamTRwj7DK",
        "outputId": "26a66ba7-231e-4179-f511-76b68198ac11"
      },
      "execution_count": null,
      "outputs": [
        {
          "output_type": "stream",
          "name": "stdout",
          "text": [
            "   Id  SepalLengthCm  SepalWidthCm  PetalLengthCm  PetalWidthCm Species\n",
            "0   1            5.1           3.5            1.4           0.2       0\n",
            "1   2            4.9           3.0            1.4           0.2       0\n",
            "2   3            4.7           3.2            1.3           0.2       0\n",
            "3   4            4.6           3.1            1.5           0.2       0\n",
            "4   5            5.0           3.6            1.4           0.2       0\n",
            "5   6            5.4           3.9            1.7           0.4       0\n",
            "6   7            4.6           3.4            1.4           0.3       0\n",
            "7   8            5.0           3.4            1.5           0.2       0\n",
            "8   9            4.4           2.9            1.4           0.2       0\n",
            "9  10            4.9           3.1            1.5           0.1       0\n"
          ]
        }
      ]
    },
    {
      "cell_type": "markdown",
      "source": [
        "## 7-Écrire un script python permettant la division de dataset en des données d’apprentissage (70%) et des données de test (30%)."
      ],
      "metadata": {
        "id": "ta3SXsD3kb2a"
      }
    },
    {
      "cell_type": "code",
      "source": [
        "x = df.loc[:,['SepalLengthCm','SepalWidthCm','PetalLengthCm','PetalWidthCm']]\n",
        "y = df.loc[:,['Species']]\n",
        "xtrain,xtest,ytrain,ytest=train_test_split(x,y,train_size=0.7)"
      ],
      "metadata": {
        "id": "pGBLBHBCuA-n"
      },
      "execution_count": null,
      "outputs": []
    },
    {
      "cell_type": "markdown",
      "source": [
        "## 8-Afficher les 10 premières données d’apprentissage et celles de test."
      ],
      "metadata": {
        "id": "T_wQmj3QruUk"
      }
    },
    {
      "cell_type": "code",
      "source": [
        "print(xtrain.head(10))"
      ],
      "metadata": {
        "colab": {
          "base_uri": "https://localhost:8080/"
        },
        "id": "Od9ZNYOjr7T0",
        "outputId": "7d89e170-b5c1-4148-e711-7510a6923a42"
      },
      "execution_count": null,
      "outputs": [
        {
          "output_type": "stream",
          "name": "stdout",
          "text": [
            "     SepalLengthCm  SepalWidthCm  PetalLengthCm  PetalWidthCm\n",
            "67             5.8           2.7            4.1           1.0\n",
            "129            7.2           3.0            5.8           1.6\n",
            "93             5.0           2.3            3.3           1.0\n",
            "41             4.5           2.3            1.3           0.3\n",
            "119            6.0           2.2            5.0           1.5\n",
            "84             5.4           3.0            4.5           1.5\n",
            "95             5.7           3.0            4.2           1.2\n",
            "12             4.8           3.0            1.4           0.1\n",
            "122            7.7           2.8            6.7           2.0\n",
            "71             6.1           2.8            4.0           1.3\n"
          ]
        }
      ]
    },
    {
      "cell_type": "code",
      "source": [
        "print(xtest.head(10))"
      ],
      "metadata": {
        "colab": {
          "base_uri": "https://localhost:8080/"
        },
        "id": "UTeWQMJVvjZd",
        "outputId": "33c397ba-2e14-48cb-cb14-1abd586be1f4"
      },
      "execution_count": null,
      "outputs": [
        {
          "output_type": "stream",
          "name": "stdout",
          "text": [
            "     SepalLengthCm  SepalWidthCm  PetalLengthCm  PetalWidthCm\n",
            "131            7.9           3.8            6.4           2.0\n",
            "36             5.5           3.5            1.3           0.2\n",
            "58             6.6           2.9            4.6           1.3\n",
            "60             5.0           2.0            3.5           1.0\n",
            "55             5.7           2.8            4.5           1.3\n",
            "126            6.2           2.8            4.8           1.8\n",
            "82             5.8           2.7            3.9           1.2\n",
            "48             5.3           3.7            1.5           0.2\n",
            "57             4.9           2.4            3.3           1.0\n",
            "148            6.2           3.4            5.4           2.3\n"
          ]
        }
      ]
    },
    {
      "cell_type": "code",
      "source": [
        "print(ytrain.head(10))"
      ],
      "metadata": {
        "colab": {
          "base_uri": "https://localhost:8080/"
        },
        "id": "UN_M4_y-v2W8",
        "outputId": "d45f0b67-667b-4671-ec39-d10bc0af27b3"
      },
      "execution_count": null,
      "outputs": [
        {
          "output_type": "stream",
          "name": "stdout",
          "text": [
            "    Species\n",
            "67        1\n",
            "129       2\n",
            "93        1\n",
            "41        0\n",
            "119       2\n",
            "84        1\n",
            "95        1\n",
            "12        0\n",
            "122       2\n",
            "71        1\n"
          ]
        }
      ]
    },
    {
      "cell_type": "code",
      "source": [
        "print(ytest.head(10))"
      ],
      "metadata": {
        "colab": {
          "base_uri": "https://localhost:8080/"
        },
        "id": "7nf_KFy9v8jt",
        "outputId": "f55e89f6-3743-4c4f-ebac-33a1a6dd5c5a"
      },
      "execution_count": null,
      "outputs": [
        {
          "output_type": "stream",
          "name": "stdout",
          "text": [
            "    Species\n",
            "131       2\n",
            "36        0\n",
            "58        1\n",
            "60        1\n",
            "55        1\n",
            "126       2\n",
            "82        1\n",
            "48        0\n",
            "57        1\n",
            "148       2\n"
          ]
        }
      ]
    },
    {
      "cell_type": "markdown",
      "source": [
        "## 9-Ecrire un script python qui utilise un perceptron multicouche pour l’apprentissage des données avec un optimisateur (‘lbfgs’, epsilon=0.07 et nombre maximum d’itération=150) ."
      ],
      "metadata": {
        "id": "uGb6aInLwO9N"
      }
    },
    {
      "cell_type": "code",
      "source": [
        "clas =  MLPClassifier(epsilon=0.07,hidden_layer_sizes=(4,),max_iter=150,solver=\"lbfgs\")\n",
        "clas.fit(xtrain , ytrain)"
      ],
      "metadata": {
        "colab": {
          "base_uri": "https://localhost:8080/"
        },
        "id": "vO9PNnwGwS6t",
        "outputId": "78d8ef93-031c-4c7a-fa30-227aeb396b98"
      },
      "execution_count": null,
      "outputs": [
        {
          "output_type": "stream",
          "name": "stderr",
          "text": [
            "/usr/local/lib/python3.8/dist-packages/sklearn/neural_network/_multilayer_perceptron.py:1109: DataConversionWarning: A column-vector y was passed when a 1d array was expected. Please change the shape of y to (n_samples, ), for example using ravel().\n",
            "  y = column_or_1d(y, warn=True)\n"
          ]
        },
        {
          "output_type": "execute_result",
          "data": {
            "text/plain": [
              "MLPClassifier(epsilon=0.07, hidden_layer_sizes=(4,), max_iter=150,\n",
              "              solver='lbfgs')"
            ]
          },
          "metadata": {},
          "execution_count": 80
        }
      ]
    },
    {
      "cell_type": "markdown",
      "source": [
        "## 10-Evaluer ce perceptron en affichant son “accuracy” et le temps de réponse."
      ],
      "metadata": {
        "id": "pgJSUIU93bx7"
      }
    },
    {
      "cell_type": "code",
      "source": [
        "prediction=clas.predict(xtest)\n",
        "prediction\n"
      ],
      "metadata": {
        "colab": {
          "base_uri": "https://localhost:8080/"
        },
        "id": "E6Yk-M7U2loR",
        "outputId": "76b6efb2-be7d-4cdf-88ba-0f8dab6d3240"
      },
      "execution_count": null,
      "outputs": [
        {
          "output_type": "execute_result",
          "data": {
            "text/plain": [
              "array(['2', '0', '1', '1', '1', '2', '1', '0', '1', '2', '1', '2', '0',\n",
              "       '2', '0', '0', '0', '2', '0', '0', '1', '2', '1', '1', '1', '1',\n",
              "       '0', '0', '2', '0', '0', '0', '2', '0', '1', '2', '0', '1', '1',\n",
              "       '1', '2', '1', '2', '1', '2'], dtype='<U1')"
            ]
          },
          "metadata": {},
          "execution_count": 81
        }
      ]
    },
    {
      "cell_type": "code",
      "source": [
        "\n",
        "%time\n",
        "print('the accuracy is :',metrics.accuracy_score(prediction,ytest))\n",
        "     "
      ],
      "metadata": {
        "colab": {
          "base_uri": "https://localhost:8080/"
        },
        "id": "RwCLUt__4WEB",
        "outputId": "a77cc539-b3ad-4ab9-8064-183d90b5a1b5"
      },
      "execution_count": null,
      "outputs": [
        {
          "output_type": "stream",
          "name": "stdout",
          "text": [
            "CPU times: user 4 µs, sys: 0 ns, total: 4 µs\n",
            "Wall time: 9.54 µs\n",
            "the accuracy is : 0.9777777777777777\n"
          ]
        }
      ]
    },
    {
      "cell_type": "markdown",
      "source": [
        "## 11-Afficher la matrice de confusion associée à notre cas.\n",
        "\n"
      ],
      "metadata": {
        "id": "Z-U_x-M78ns5"
      }
    },
    {
      "cell_type": "code",
      "source": [
        "import matplotlib.pyplot as plt\n",
        "from sklearn.metrics import confusion_matrix\n",
        "from sklearn.metrics import plot_confusion_matrix\n",
        "\n",
        "color = 'black'\n",
        "matrix = plot_confusion_matrix(clas, xtest, ytest, cmap=plt.cm.gray)\n",
        "matrix.ax_.set_title('matrice de confusion ', color=color)\n",
        "\n",
        "plt.xlabel('Predicted Label', color=color)\n",
        "plt.ylabel('Actual ', color=color)\n",
        "\n",
        "plt.gcf().axes[0].tick_params(colors=color)\n",
        "plt.gcf().axes[1].tick_params(colors=color)\n",
        "plt.show()\n",
        "\n"
      ],
      "metadata": {
        "colab": {
          "base_uri": "https://localhost:8080/",
          "height": 350
        },
        "id": "0R7VvbHhhQD7",
        "outputId": "4962ddb4-5793-41f0-98ab-f62a81fde2cf"
      },
      "execution_count": null,
      "outputs": [
        {
          "output_type": "stream",
          "name": "stderr",
          "text": [
            "/usr/local/lib/python3.8/dist-packages/sklearn/utils/deprecation.py:87: FutureWarning: Function plot_confusion_matrix is deprecated; Function `plot_confusion_matrix` is deprecated in 1.0 and will be removed in 1.2. Use one of the class methods: ConfusionMatrixDisplay.from_predictions or ConfusionMatrixDisplay.from_estimator.\n",
            "  warnings.warn(msg, category=FutureWarning)\n"
          ]
        },
        {
          "output_type": "display_data",
          "data": {
            "text/plain": [
              "<Figure size 432x288 with 2 Axes>"
            ],
            "image/png": "[encoded data removed]"
          },
          "metadata": {
            "needs_background": "light"
          }
        }
      ]
    },
    {
      "cell_type": "code",
      "source": [
        "!pip install pretty-confusion-matrix"
      ],
      "metadata": {
        "colab": {
          "base_uri": "https://localhost:8080/",
          "height": 1000
        },
        "id": "uxCfblOa7rJI",
        "outputId": "e35391bf-a751-4681-b211-136a6645e04c"
      },
      "execution_count": null,
      "outputs": [
        {
          "output_type": "stream",
          "name": "stdout",
          "text": [
            "Looking in indexes: https://pypi.org/simple, https://us-python.pkg.dev/colab-wheels/public/simple/\n",
            "Collecting pretty-confusion-matrix\n",
            "  Downloading pretty_confusion_matrix-0.1.1-py3-none-any.whl (9.6 kB)\n",
            "Collecting matplotlib<4.0.0,>=3.5.0\n",
            "  Downloading matplotlib-3.6.2-cp38-cp38-manylinux_2_12_x86_64.manylinux2010_x86_64.whl (9.4 MB)\n",
            "\u001b[K     |████████████████████████████████| 9.4 MB 4.4 MB/s \n",
            "\u001b[?25hCollecting black<22.0,>=21.5b0\n",
            "  Downloading black-21.12b0-py3-none-any.whl (156 kB)\n",
            "\u001b[K     |████████████████████████████████| 156 kB 58.1 MB/s \n",
            "\u001b[?25hCollecting flake8<4.0.0,>=3.9.2\n",
            "  Downloading flake8-3.9.2-py2.py3-none-any.whl (73 kB)\n",
            "\u001b[K     |████████████████████████████████| 73 kB 1.6 MB/s \n",
            "\u001b[?25hCollecting isort<6.0.0,>=5.8.0\n",
            "  Downloading isort-5.10.1-py3-none-any.whl (103 kB)\n",
            "\u001b[K     |████████████████████████████████| 103 kB 73.8 MB/s \n",
            "\u001b[?25hCollecting pre-commit<3.0.0,>=2.12.1\n",
            "  Downloading pre_commit-2.20.0-py2.py3-none-any.whl (199 kB)\n",
            "\u001b[K     |████████████████████████████████| 199 kB 59.6 MB/s \n",
            "\u001b[?25hRequirement already satisfied: seaborn<0.12.0,>=0.11.2 in /usr/local/lib/python3.8/dist-packages (from pretty-confusion-matrix) (0.11.2)\n",
            "Collecting sklearn<0.1,>=0.0\n",
            "  Downloading sklearn-0.0.post1.tar.gz (3.6 kB)\n",
            "Requirement already satisfied: pandas<2.0.0,>=1.3.4 in /usr/local/lib/python3.8/dist-packages (from pretty-confusion-matrix) (1.3.5)\n",
            "Requirement already satisfied: numpy<2.0.0,>=1.21.4 in /usr/local/lib/python3.8/dist-packages (from pretty-confusion-matrix) (1.21.6)\n",
            "Collecting tomli<2.0.0,>=0.2.6\n",
            "  Downloading tomli-1.2.3-py3-none-any.whl (12 kB)\n",
            "Requirement already satisfied: click>=7.1.2 in /usr/local/lib/python3.8/dist-packages (from black<22.0,>=21.5b0->pretty-confusion-matrix) (7.1.2)\n",
            "Requirement already satisfied: typing-extensions>=3.10.0.0 in /usr/local/lib/python3.8/dist-packages (from black<22.0,>=21.5b0->pretty-confusion-matrix) (4.4.0)\n",
            "Collecting pathspec<1,>=0.9.0\n",
            "  Downloading pathspec-0.10.3-py3-none-any.whl (29 kB)\n",
            "Requirement already satisfied: platformdirs>=2 in /usr/local/lib/python3.8/dist-packages (from black<22.0,>=21.5b0->pretty-confusion-matrix) (2.5.4)\n",
            "Collecting mypy-extensions>=0.4.3\n",
            "  Downloading mypy_extensions-0.4.3-py2.py3-none-any.whl (4.5 kB)\n",
            "Collecting pycodestyle<2.8.0,>=2.7.0\n",
            "  Downloading pycodestyle-2.7.0-py2.py3-none-any.whl (41 kB)\n",
            "\u001b[K     |████████████████████████████████| 41 kB 556 kB/s \n",
            "\u001b[?25hCollecting pyflakes<2.4.0,>=2.3.0\n",
            "  Downloading pyflakes-2.3.1-py2.py3-none-any.whl (68 kB)\n",
            "\u001b[K     |████████████████████████████████| 68 kB 6.4 MB/s \n",
            "\u001b[?25hCollecting mccabe<0.7.0,>=0.6.0\n",
            "  Downloading mccabe-0.6.1-py2.py3-none-any.whl (8.6 kB)\n",
            "Collecting contourpy>=1.0.1\n",
            "  Downloading contourpy-1.0.6-cp38-cp38-manylinux_2_17_x86_64.manylinux2014_x86_64.whl (295 kB)\n",
            "\u001b[K     |████████████████████████████████| 295 kB 60.5 MB/s \n",
            "\u001b[?25hRequirement already satisfied: cycler>=0.10 in /usr/local/lib/python3.8/dist-packages (from matplotlib<4.0.0,>=3.5.0->pretty-confusion-matrix) (0.11.0)\n",
            "Requirement already satisfied: kiwisolver>=1.0.1 in /usr/local/lib/python3.8/dist-packages (from matplotlib<4.0.0,>=3.5.0->pretty-confusion-matrix) (1.4.4)\n",
            "Collecting fonttools>=4.22.0\n",
            "  Downloading fonttools-4.38.0-py3-none-any.whl (965 kB)\n",
            "\u001b[K     |████████████████████████████████| 965 kB 53.4 MB/s \n",
            "\u001b[?25hRequirement already satisfied: packaging>=20.0 in /usr/local/lib/python3.8/dist-packages (from matplotlib<4.0.0,>=3.5.0->pretty-confusion-matrix) (21.3)\n",
            "Requirement already satisfied: python-dateutil>=2.7 in /usr/local/lib/python3.8/dist-packages (from matplotlib<4.0.0,>=3.5.0->pretty-confusion-matrix) (2.8.2)\n",
            "Requirement already satisfied: pillow>=6.2.0 in /usr/local/lib/python3.8/dist-packages (from matplotlib<4.0.0,>=3.5.0->pretty-confusion-matrix) (7.1.2)\n",
            "Requirement already satisfied: pyparsing>=2.2.1 in /usr/local/lib/python3.8/dist-packages (from matplotlib<4.0.0,>=3.5.0->pretty-confusion-matrix) (3.0.9)\n",
            "Requirement already satisfied: pytz>=2017.3 in /usr/local/lib/python3.8/dist-packages (from pandas<2.0.0,>=1.3.4->pretty-confusion-matrix) (2022.6)\n",
            "Requirement already satisfied: pyyaml>=5.1 in /usr/local/lib/python3.8/dist-packages (from pre-commit<3.0.0,>=2.12.1->pretty-confusion-matrix) (6.0)\n",
            "Collecting cfgv>=2.0.0\n",
            "  Downloading cfgv-3.3.1-py2.py3-none-any.whl (7.3 kB)\n",
            "Requirement already satisfied: toml in /usr/local/lib/python3.8/dist-packages (from pre-commit<3.0.0,>=2.12.1->pretty-confusion-matrix) (0.10.2)\n",
            "Collecting virtualenv>=20.0.8\n",
            "  Downloading virtualenv-20.17.1-py3-none-any.whl (8.8 MB)\n",
            "\u001b[K     |████████████████████████████████| 8.8 MB 40.0 MB/s \n",
            "\u001b[?25hCollecting identify>=1.0.0\n",
            "  Downloading identify-2.5.9-py2.py3-none-any.whl (98 kB)\n",
            "\u001b[K     |████████████████████████████████| 98 kB 8.7 MB/s \n",
            "\u001b[?25hCollecting nodeenv>=0.11.1\n",
            "  Downloading nodeenv-1.7.0-py2.py3-none-any.whl (21 kB)\n",
            "Requirement already satisfied: setuptools in /usr/local/lib/python3.8/dist-packages (from nodeenv>=0.11.1->pre-commit<3.0.0,>=2.12.1->pretty-confusion-matrix) (57.4.0)\n",
            "Requirement already satisfied: six>=1.5 in /usr/local/lib/python3.8/dist-packages (from python-dateutil>=2.7->matplotlib<4.0.0,>=3.5.0->pretty-confusion-matrix) (1.15.0)\n",
            "Requirement already satisfied: scipy>=1.0 in /usr/local/lib/python3.8/dist-packages (from seaborn<0.12.0,>=0.11.2->pretty-confusion-matrix) (1.7.3)\n",
            "Requirement already satisfied: filelock<4,>=3.4.1 in /usr/local/lib/python3.8/dist-packages (from virtualenv>=20.0.8->pre-commit<3.0.0,>=2.12.1->pretty-confusion-matrix) (3.8.0)\n",
            "Collecting distlib<1,>=0.3.6\n",
            "  Downloading distlib-0.3.6-py2.py3-none-any.whl (468 kB)\n",
            "\u001b[K     |████████████████████████████████| 468 kB 58.7 MB/s \n",
            "\u001b[?25hBuilding wheels for collected packages: sklearn\n",
            "  Building wheel for sklearn (setup.py) ... \u001b[?25l\u001b[?25hdone\n",
            "  Created wheel for sklearn: filename=sklearn-0.0.post1-py3-none-any.whl size=2344 sha256=86c0dd3dc516fc649d8366275d522953a15eeafc3594a88dcca563dacd72016d\n",
            "  Stored in directory: /root/.cache/pip/wheels/14/25/f7/1cc0956978ae479e75140219088deb7a36f60459df242b1a72\n",
            "Successfully built sklearn\n",
            "Installing collected packages: fonttools, distlib, contourpy, virtualenv, tomli, pyflakes, pycodestyle, pathspec, nodeenv, mypy-extensions, mccabe, matplotlib, identify, cfgv, sklearn, pre-commit, isort, flake8, black, pretty-confusion-matrix\n",
            "  Attempting uninstall: tomli\n",
            "    Found existing installation: tomli 2.0.1\n",
            "    Uninstalling tomli-2.0.1:\n",
            "      Successfully uninstalled tomli-2.0.1\n",
            "  Attempting uninstall: matplotlib\n",
            "    Found existing installation: matplotlib 3.2.2\n",
            "    Uninstalling matplotlib-3.2.2:\n",
            "      Successfully uninstalled matplotlib-3.2.2\n",
            "Successfully installed black-21.12b0 cfgv-3.3.1 contourpy-1.0.6 distlib-0.3.6 flake8-3.9.2 fonttools-4.38.0 identify-2.5.9 isort-5.10.1 matplotlib-3.6.2 mccabe-0.6.1 mypy-extensions-0.4.3 nodeenv-1.7.0 pathspec-0.10.3 pre-commit-2.20.0 pretty-confusion-matrix-0.1.1 pycodestyle-2.7.0 pyflakes-2.3.1 sklearn-0.0.post1 tomli-1.2.3 virtualenv-20.17.1\n"
          ]
        },
        {
          "output_type": "display_data",
          "data": {
            "application/vnd.colab-display-data+json": {
              "pip_warning": {
                "packages": [
                  "matplotlib",
                  "mpl_toolkits"
                ]
              }
            }
          },
          "metadata": {}
        }
      ]
    },
    {
      "cell_type": "code",
      "source": [
        "#autrement:\n",
        "from pretty_confusion_matrix import pp_matrix_from_data\n",
        "pp_matrix_from_data( ytest,prediction )\n",
        "#ceci x :test y: predict d'ou ce matrice l'inverce du l'autre en premier methode\n"
      ],
      "metadata": {
        "colab": {
          "base_uri": "https://localhost:8080/",
          "height": 885
        },
        "id": "lsK5gRRCxaGg",
        "outputId": "9d8f45cd-0c38-4c60-f59c-9a15a4b52278"
      },
      "execution_count": null,
      "outputs": [
        {
          "output_type": "stream",
          "name": "stderr",
          "text": [
            "/usr/local/lib/python3.8/dist-packages/pretty_confusion_matrix/pretty_confusion_matrix.py:200: MatplotlibDeprecationWarning: \n",
            "The tick1On function was deprecated in Matplotlib 3.1 and will be removed in 3.3. Use Tick.tick1line.set_visible instead.\n",
            "  t.tick1On = False\n",
            "/usr/local/lib/python3.8/dist-packages/pretty_confusion_matrix/pretty_confusion_matrix.py:201: MatplotlibDeprecationWarning: \n",
            "The tick2On function was deprecated in Matplotlib 3.1 and will be removed in 3.3. Use Tick.tick2line.set_visible instead.\n",
            "  t.tick2On = False\n",
            "/usr/local/lib/python3.8/dist-packages/pretty_confusion_matrix/pretty_confusion_matrix.py:203: MatplotlibDeprecationWarning: \n",
            "The tick1On function was deprecated in Matplotlib 3.1 and will be removed in 3.3. Use Tick.tick1line.set_visible instead.\n",
            "  t.tick1On = False\n",
            "/usr/local/lib/python3.8/dist-packages/pretty_confusion_matrix/pretty_confusion_matrix.py:204: MatplotlibDeprecationWarning: \n",
            "The tick2On function was deprecated in Matplotlib 3.1 and will be removed in 3.3. Use Tick.tick2line.set_visible instead.\n",
            "  t.tick2On = False\n"
          ]
        },
        {
          "output_type": "display_data",
          "data": {
            "text/plain": [
              "<Figure size 648x648 with 1 Axes>"
            ],
            "image/png": "[encoded data removed]"
          },
          "metadata": {
            "needs_background": "light"
          }
        }
      ]
    },
    {
      "cell_type": "markdown",
      "source": [
        "## 12-Selon les résultats affichés commenter le perceptron que vous avez utilisé."
      ],
      "metadata": {
        "id": "_UoMq7brIUyz"
      }
    },
    {
      "cell_type": "code",
      "source": [
        "print('Error :' + str(1-metrics.accuracy_score(ytest, prediction)))"
      ],
      "metadata": {
        "colab": {
          "base_uri": "https://localhost:8080/"
        },
        "id": "dXyWcCSwIBnb",
        "outputId": "fc561209-6a9a-4c26-cf1c-4a72387f1b49"
      },
      "execution_count": null,
      "outputs": [
        {
          "output_type": "stream",
          "name": "stdout",
          "text": [
            "Error :0.022222222222222254\n"
          ]
        }
      ]
    },
    {
      "cell_type": "markdown",
      "source": [
        "Ce perceptron est performant ; il done une précision de 97.78%"
      ],
      "metadata": {
        "id": "xnVpq3kOuKTe"
      }
    },
    {
      "cell_type": "markdown",
      "source": [
        "le classe A sont prédites correctements car on a 100% True et 0% False, de meme pour la classe C. Mais les valeurs du classe B sont prédites moin perfetement car on a 94.12% True et 5.88:% False."
      ],
      "metadata": {
        "id": "ufBgxzWauhsi"
      }
    },
    {
      "cell_type": "markdown",
      "source": [
        "## 13-On va ajouter le paramètre de taux d’apprentissage au niveau de classifieur utilisé pour une valeur égale 0.7"
      ],
      "metadata": {
        "id": "VpglzqyXvDI2"
      }
    },
    {
      "cell_type": "code",
      "source": [
        "from sklearn.neural_network import MLPClassifier \n",
        "clas=MLPClassifier(epsilon=0.07, hidden_layer_sizes=(4,), learning_rate_init=0.7,max_iter=150, solver='sgd')\n",
        "clas.fit(xtrain , ytrain)"
      ],
      "metadata": {
        "colab": {
          "base_uri": "https://localhost:8080/"
        },
        "id": "p_nen28svSGW",
        "outputId": "f75e2627-dd13-4ebb-a1f3-5641b533ba5f"
      },
      "execution_count": null,
      "outputs": [
        {
          "output_type": "stream",
          "name": "stderr",
          "text": [
            "/usr/local/lib/python3.8/dist-packages/sklearn/neural_network/_multilayer_perceptron.py:1109: DataConversionWarning: A column-vector y was passed when a 1d array was expected. Please change the shape of y to (n_samples, ), for example using ravel().\n",
            "  y = column_or_1d(y, warn=True)\n"
          ]
        },
        {
          "output_type": "execute_result",
          "data": {
            "text/plain": [
              "MLPClassifier(epsilon=0.07, hidden_layer_sizes=(4,), learning_rate_init=0.7,\n",
              "              max_iter=150, solver='sgd')"
            ]
          },
          "metadata": {},
          "execution_count": 86
        }
      ]
    },
    {
      "cell_type": "markdown",
      "source": [
        "## 14-Nous allons étudier la variation du paramètre de taux d’apprentissage, donc nous allons afficher la courbe d'évolution d’apprentissage et celle de test en fonction de variation du taux d’apprentissage."
      ],
      "metadata": {
        "id": "Ed9pneCB6P0-"
      }
    },
    {
      "cell_type": "code",
      "source": [
        "params= [ \n",
        "    {\n",
        "        \"solver\":\"sgd\",\n",
        "        \"learning_rate\":\"constant\",\n",
        "        \"learning_rate_init\":0.2,\n",
        "        \"max_iter\": 150,  \n",
        "    },\n",
        "\n",
        "    {\n",
        "        \"solver\":\"sgd\",\n",
        "        \"learning_rate\":\"constant\",\n",
        "        \"learning_rate_init\":0.7,\n",
        "        \"max_iter\": 300, \n",
        "    },\n",
        "     {\n",
        "        \"solver\":\"sgd\",\n",
        "        \"learning_rate\":\"invscaling\",\n",
        "        \"learning_rate_init\": 0.2,\n",
        "        \"max_iter\": 300,\n",
        "    },\n",
        "\n",
        "     {\n",
        "        \"solver\":\"sgd\",\n",
        "        \"learning_rate\":\"invscaling\",\n",
        "        \"learning_rate_init\": 0.7,\n",
        "        \"max_iter\": 150,  \n",
        "    },\n",
        "    {\n",
        "        \"solver\":\"adam\",\n",
        "        \"learning_rate_init\": 0.01,\n",
        "        \"max_iter\": 300,    \n",
        "    },\n",
        "]\n",
        "\n",
        "labels=[\n",
        "    \"constant learning-rate_0.2\",\n",
        "    \"constant learning-rate_0.7\",\n",
        "    \"invscaling learning-rate_0.2\",\n",
        "    \"invscaling learning-rate_0.7\",\n",
        "    \"adam\",\n",
        "]\n",
        "\n",
        "plot_args=[\n",
        "    {\"c\": \"red\", \"linestyle\": \"-\"},\n",
        "    {\"c\": \"green\", \"linestyle\": \"-\"},\n",
        "    {\"c\": \"blue\", \"linestyle\": \"-\"},\n",
        "    {\"c\": \"red\", \"linestyle\": \"--\"},\n",
        "    {\"c\": \"green\", \"linestyle\": \"--\"},\n",
        "]\n"
      ],
      "metadata": {
        "id": "MJoJHngy-GdC"
      },
      "execution_count": null,
      "outputs": []
    },
    {
      "cell_type": "code",
      "source": [
        "mlps = []\n",
        "for label, param in zip(labels, params):\n",
        "    print('training : %s' % label)\n",
        "    mlp=MLPClassifier(random_state=0, **param)\n",
        "    mlp.fit(xtrain, ytrain)\n",
        "    mlps.append(mlp)\n",
        "    print(\"training set score : %f\" % mlp.score(xtrain, ytrain))\n",
        "\n",
        "mlps2=[]\n",
        "for label,param in zip(labels,params):\n",
        "  print(\"training:%s\" % label)\n",
        "  mlp=MLPClassifier(random_state=0,**param)\n",
        "  mlp.fit(xtest,ytest)\n",
        "  mlps2.append(mlp)\n",
        "  print(\"Training set score : %f\" % mlp.score(xtest,ytest))"
      ],
      "metadata": {
        "colab": {
          "base_uri": "https://localhost:8080/"
        },
        "id": "9IaUWuhZ_XSD",
        "outputId": "acb020a0-c320-4dc6-c1f0-aadff74f878e"
      },
      "execution_count": null,
      "outputs": [
        {
          "output_type": "stream",
          "name": "stdout",
          "text": [
            "training : constant learning-rate_0.2\n",
            "training set score : 0.333333\n",
            "training : constant learning-rate_0.7\n",
            "training set score : 0.304762\n",
            "training : invscaling learning-rate_0.2\n"
          ]
        },
        {
          "output_type": "stream",
          "name": "stderr",
          "text": [
            "/usr/local/lib/python3.8/dist-packages/sklearn/neural_network/_multilayer_perceptron.py:1109: DataConversionWarning: A column-vector y was passed when a 1d array was expected. Please change the shape of y to (n_samples, ), for example using ravel().\n",
            "  y = column_or_1d(y, warn=True)\n",
            "/usr/local/lib/python3.8/dist-packages/sklearn/neural_network/_multilayer_perceptron.py:1109: DataConversionWarning: A column-vector y was passed when a 1d array was expected. Please change the shape of y to (n_samples, ), for example using ravel().\n",
            "  y = column_or_1d(y, warn=True)\n",
            "/usr/local/lib/python3.8/dist-packages/sklearn/neural_network/_multilayer_perceptron.py:1109: DataConversionWarning: A column-vector y was passed when a 1d array was expected. Please change the shape of y to (n_samples, ), for example using ravel().\n",
            "  y = column_or_1d(y, warn=True)\n",
            "/usr/local/lib/python3.8/dist-packages/sklearn/neural_network/_multilayer_perceptron.py:692: ConvergenceWarning: Stochastic Optimizer: Maximum iterations (300) reached and the optimization hasn't converged yet.\n",
            "  warnings.warn(\n",
            "/usr/local/lib/python3.8/dist-packages/sklearn/neural_network/_multilayer_perceptron.py:1109: DataConversionWarning: A column-vector y was passed when a 1d array was expected. Please change the shape of y to (n_samples, ), for example using ravel().\n",
            "  y = column_or_1d(y, warn=True)\n",
            "/usr/local/lib/python3.8/dist-packages/sklearn/neural_network/_multilayer_perceptron.py:692: ConvergenceWarning: Stochastic Optimizer: Maximum iterations (150) reached and the optimization hasn't converged yet.\n",
            "  warnings.warn(\n",
            "/usr/local/lib/python3.8/dist-packages/sklearn/neural_network/_multilayer_perceptron.py:1109: DataConversionWarning: A column-vector y was passed when a 1d array was expected. Please change the shape of y to (n_samples, ), for example using ravel().\n",
            "  y = column_or_1d(y, warn=True)\n"
          ]
        },
        {
          "output_type": "stream",
          "name": "stdout",
          "text": [
            "training set score : 0.971429\n",
            "training : invscaling learning-rate_0.7\n",
            "training set score : 0.980952\n",
            "training : adam\n",
            "training set score : 0.980952\n",
            "training:constant learning-rate_0.2\n",
            "Training set score : 0.333333\n",
            "training:constant learning-rate_0.7\n",
            "Training set score : 0.400000\n",
            "training:invscaling learning-rate_0.2\n"
          ]
        },
        {
          "output_type": "stream",
          "name": "stderr",
          "text": [
            "/usr/local/lib/python3.8/dist-packages/sklearn/neural_network/_multilayer_perceptron.py:1109: DataConversionWarning: A column-vector y was passed when a 1d array was expected. Please change the shape of y to (n_samples, ), for example using ravel().\n",
            "  y = column_or_1d(y, warn=True)\n",
            "/usr/local/lib/python3.8/dist-packages/sklearn/neural_network/_multilayer_perceptron.py:1109: DataConversionWarning: A column-vector y was passed when a 1d array was expected. Please change the shape of y to (n_samples, ), for example using ravel().\n",
            "  y = column_or_1d(y, warn=True)\n",
            "/usr/local/lib/python3.8/dist-packages/sklearn/neural_network/_multilayer_perceptron.py:1109: DataConversionWarning: A column-vector y was passed when a 1d array was expected. Please change the shape of y to (n_samples, ), for example using ravel().\n",
            "  y = column_or_1d(y, warn=True)\n",
            "/usr/local/lib/python3.8/dist-packages/sklearn/neural_network/_multilayer_perceptron.py:692: ConvergenceWarning: Stochastic Optimizer: Maximum iterations (300) reached and the optimization hasn't converged yet.\n",
            "  warnings.warn(\n"
          ]
        },
        {
          "output_type": "stream",
          "name": "stdout",
          "text": [
            "Training set score : 1.000000\n",
            "training:invscaling learning-rate_0.7\n",
            "Training set score : 0.977778\n",
            "training:adam\n"
          ]
        },
        {
          "output_type": "stream",
          "name": "stderr",
          "text": [
            "/usr/local/lib/python3.8/dist-packages/sklearn/neural_network/_multilayer_perceptron.py:1109: DataConversionWarning: A column-vector y was passed when a 1d array was expected. Please change the shape of y to (n_samples, ), for example using ravel().\n",
            "  y = column_or_1d(y, warn=True)\n",
            "/usr/local/lib/python3.8/dist-packages/sklearn/neural_network/_multilayer_perceptron.py:692: ConvergenceWarning: Stochastic Optimizer: Maximum iterations (150) reached and the optimization hasn't converged yet.\n",
            "  warnings.warn(\n",
            "/usr/local/lib/python3.8/dist-packages/sklearn/neural_network/_multilayer_perceptron.py:1109: DataConversionWarning: A column-vector y was passed when a 1d array was expected. Please change the shape of y to (n_samples, ), for example using ravel().\n",
            "  y = column_or_1d(y, warn=True)\n"
          ]
        },
        {
          "output_type": "stream",
          "name": "stdout",
          "text": [
            "Training set score : 1.000000\n"
          ]
        }
      ]
    },
    {
      "cell_type": "code",
      "source": [
        "for mlp1, mlp2, label, args in zip(mlps, mlps2,labels,plot_args):\n",
        "  plt.plot(mlp1.loss_curve_ , 'g', label=label)\n",
        "  plt.plot(mlp2.loss_curve_ , 'y', label=label)\n",
        "  plt.title(label,fontsize=14)\n",
        "  plt.legend(['train', 'test'], loc='upper left')\n",
        "  plt.show()"
      ],
      "metadata": {
        "colab": {
          "base_uri": "https://localhost:8080/",
          "height": 1000
        },
        "id": "y_T6eCcCAX51",
        "outputId": "fe0e2094-139f-488d-d3e6-d8e11205b891"
      },
      "execution_count": null,
      "outputs": [
        {
          "output_type": "display_data",
          "data": {
            "text/plain": [
              "<Figure size 432x288 with 1 Axes>"
            ],
            "image/png": "[encoded data removed]"
          },
          "metadata": {
            "needs_background": "light"
          }
        },
        {
          "output_type": "display_data",
          "data": {
            "text/plain": [
              "<Figure size 432x288 with 1 Axes>"
            ],
            "image/png": "[encoded data removed]"
          },
          "metadata": {
            "needs_background": "light"
          }
        },
        {
          "output_type": "display_data",
          "data": {
            "text/plain": [
              "<Figure size 432x288 with 1 Axes>"
            ],
            "image/png": "[encoded data removed]"
          },
          "metadata": {
            "needs_background": "light"
          }
        },
        {
          "output_type": "display_data",
          "data": {
            "text/plain": [
              "<Figure size 432x288 with 1 Axes>"
            ],
            "image/png": "[encoded data removed]"
          },
          "metadata": {
            "needs_background": "light"
          }
        },
        {
          "output_type": "display_data",
          "data": {
            "text/plain": [
              "<Figure size 432x288 with 1 Axes>"
            ],
            "image/png": "[encoded data removed]"
          },
          "metadata": {
            "needs_background": "light"
          }
        }
      ]
    },
    {
      "cell_type": "markdown",
      "source": [
        "## 15-Nous allons fixer un nombre d’itération égale à 10 fois le nombre fixé au début. Quel est le phénomène constaté ? et comment pouvons- nous surmonter celui-ci ?\n",
        "\n",
        "\n"
      ],
      "metadata": {
        "id": "COl9MR4NAj-P"
      }
    },
    {
      "cell_type": "markdown",
      "source": [
        "Lorsque nous allons fixer un nombre d’itération égale à 10 fois le nombre fixé au début ca va prendre longtemps .\n",
        "\n"
      ],
      "metadata": {
        "id": "LtR4hPLjD6CH"
      }
    },
    {
      "cell_type": "markdown",
      "source": [
        " le phénomène constaté : **overfitting ou surapprentissage** :  Il survient lorsque le modèle essaie de trop s'adapter aux données d'entraînement. Il est trop flexible et trop complexe et s'adapte à des données qui ne sont pas forcément à prendre en compte. Cette situation augmente considérablement les marges d'erreur, alors que la précision est ce que l'on recherche le plus en matière d'analyse de données"
      ],
      "metadata": {
        "id": "laj4jiVZFXQF"
      }
    },
    {
      "cell_type": "markdown",
      "source": [
        "On peut surmonter celui-ci par : *Enlever certaines variables\n",
        "*Ajouter des données d'entraînement\n",
        "*diviser l'ensemble de données en deux ensembles : l'entraînement et les tests. Un ratio de partage commun est de 80 % pour la formation et de 20 % pour les tests.\n",
        "*Faire la sélection des fonctionnalités :\n",
        "Si nous n'avons qu'un nombre limité d'échantillons d'apprentissage, chacun avec un grand nombre de fonctionnalités, nous ne devons sélectionner que les fonctionnalités les plus importantes pour la formation afin que notre modèle n'ait pas besoin d'apprendre pour autant de fonctionnalités et éventuellement de sur-adapter."
      ],
      "metadata": {
        "id": "uWvP5aUGGG5Q"
      }
    },
    {
      "cell_type": "code",
      "source": [
        "from sklearn import model_selection \n",
        "RN= MLPClassifier(hidden_layer_sizes=(4,),solver=\"lbfgs\",epsilon=0.07,max_iter=1500,alpha=1e-5)\n",
        "xtrain,xtest,ytrain,ytest=model_selection.train_test_split(x,y,train_size=0.7)"
      ],
      "metadata": {
        "id": "axgV9yL3B3aa"
      },
      "execution_count": null,
      "outputs": []
    },
    {
      "cell_type": "code",
      "source": [
        "RN.fit(xtrain,ytrain)\n",
        "prediction=RN.predict(xtrain)\n",
        "prediction"
      ],
      "metadata": {
        "colab": {
          "base_uri": "https://localhost:8080/"
        },
        "id": "QHZETXiDCgra",
        "outputId": "05a1e3e2-5836-487b-8dd6-ad8c8e7871d1"
      },
      "execution_count": null,
      "outputs": [
        {
          "output_type": "stream",
          "name": "stderr",
          "text": [
            "/usr/local/lib/python3.8/dist-packages/sklearn/neural_network/_multilayer_perceptron.py:1109: DataConversionWarning: A column-vector y was passed when a 1d array was expected. Please change the shape of y to (n_samples, ), for example using ravel().\n",
            "  y = column_or_1d(y, warn=True)\n"
          ]
        },
        {
          "output_type": "execute_result",
          "data": {
            "text/plain": [
              "array(['1', '0', '2', '2', '1', '1', '0', '2', '0', '2', '2', '0', '0',\n",
              "       '1', '1', '0', '0', '2', '1', '2', '0', '0', '0', '0', '1', '0',\n",
              "       '1', '1', '0', '0', '2', '2', '1', '1', '2', '0', '1', '0', '1',\n",
              "       '1', '0', '0', '2', '0', '2', '2', '2', '2', '2', '1', '0', '2',\n",
              "       '2', '1', '2', '1', '1', '2', '2', '0', '1', '0', '2', '0', '2',\n",
              "       '0', '2', '0', '1', '1', '2', '1', '0', '1', '2', '0', '1', '0',\n",
              "       '2', '0', '2', '1', '1', '1', '2', '1', '1', '1', '2', '0', '1',\n",
              "       '0', '1', '0', '0', '1', '2', '0', '2', '0', '0', '0', '2', '2',\n",
              "       '0'], dtype='<U1')"
            ]
          },
          "metadata": {},
          "execution_count": 111
        }
      ]
    },
    {
      "cell_type": "code",
      "source": [
        "metrics.accuracy_score(prediction,ytrain)"
      ],
      "metadata": {
        "colab": {
          "base_uri": "https://localhost:8080/"
        },
        "id": "bC1jF-tWDd38",
        "outputId": "af3c245a-ccca-4cea-cbf9-04369eaead96"
      },
      "execution_count": null,
      "outputs": [
        {
          "output_type": "execute_result",
          "data": {
            "text/plain": [
              "1.0"
            ]
          },
          "metadata": {},
          "execution_count": 112
        }
      ]
    },
    {
      "cell_type": "code",
      "source": [
        "metrics.confusion_matrix(ytrain,prediction)"
      ],
      "metadata": {
        "colab": {
          "base_uri": "https://localhost:8080/"
        },
        "id": "p6eZEjxxDYzd",
        "outputId": "dd662363-8eaa-4745-bb23-f723669b1574"
      },
      "execution_count": null,
      "outputs": [
        {
          "output_type": "execute_result",
          "data": {
            "text/plain": [
              "array([[38,  0,  0],\n",
              "       [ 0, 33,  0],\n",
              "       [ 0,  0, 34]])"
            ]
          },
          "metadata": {},
          "execution_count": 113
        }
      ]
    },
    {
      "cell_type": "markdown",
      "source": [
        "## 16-Tester d’autres classifieurs de type réseau de neurones(Dynamique/Récurrent et Non récurrent) ."
      ],
      "metadata": {
        "id": "GanrVg76IRrC"
      }
    },
    {
      "cell_type": "code",
      "source": [
        "!pip install  tensorflow keras  "
      ],
      "metadata": {
        "colab": {
          "base_uri": "https://localhost:8080/"
        },
        "id": "VUGu468EIZUo",
        "outputId": "67d69860-c4ae-49a0-866c-f3e15b265eb3"
      },
      "execution_count": null,
      "outputs": [
        {
          "output_type": "stream",
          "name": "stdout",
          "text": [
            "Looking in indexes: https://pypi.org/simple, https://us-python.pkg.dev/colab-wheels/public/simple/\n",
            "Requirement already satisfied: tensorflow in /usr/local/lib/python3.8/dist-packages (2.9.2)\n",
            "Requirement already satisfied: keras in /usr/local/lib/python3.8/dist-packages (2.9.0)\n",
            "Requirement already satisfied: tensorboard<2.10,>=2.9 in /usr/local/lib/python3.8/dist-packages (from tensorflow) (2.9.1)\n",
            "Requirement already satisfied: google-pasta>=0.1.1 in /usr/local/lib/python3.8/dist-packages (from tensorflow) (0.2.0)\n",
            "Requirement already satisfied: opt-einsum>=2.3.2 in /usr/local/lib/python3.8/dist-packages (from tensorflow) (3.3.0)\n",
            "Requirement already satisfied: absl-py>=1.0.0 in /usr/local/lib/python3.8/dist-packages (from tensorflow) (1.3.0)\n",
            "Requirement already satisfied: wrapt>=1.11.0 in /usr/local/lib/python3.8/dist-packages (from tensorflow) (1.14.1)\n",
            "Requirement already satisfied: termcolor>=1.1.0 in /usr/local/lib/python3.8/dist-packages (from tensorflow) (2.1.1)\n",
            "Requirement already satisfied: tensorflow-estimator<2.10.0,>=2.9.0rc0 in /usr/local/lib/python3.8/dist-packages (from tensorflow) (2.9.0)\n",
            "Requirement already satisfied: setuptools in /usr/local/lib/python3.8/dist-packages (from tensorflow) (57.4.0)\n",
            "Requirement already satisfied: flatbuffers<2,>=1.12 in /usr/local/lib/python3.8/dist-packages (from tensorflow) (1.12)\n",
            "Requirement already satisfied: gast<=0.4.0,>=0.2.1 in /usr/local/lib/python3.8/dist-packages (from tensorflow) (0.4.0)\n",
            "Requirement already satisfied: tensorflow-io-gcs-filesystem>=0.23.1 in /usr/local/lib/python3.8/dist-packages (from tensorflow) (0.28.0)\n",
            "Requirement already satisfied: numpy>=1.20 in /usr/local/lib/python3.8/dist-packages (from tensorflow) (1.21.6)\n",
            "Requirement already satisfied: protobuf<3.20,>=3.9.2 in /usr/local/lib/python3.8/dist-packages (from tensorflow) (3.19.6)\n",
            "Requirement already satisfied: astunparse>=1.6.0 in /usr/local/lib/python3.8/dist-packages (from tensorflow) (1.6.3)\n",
            "Requirement already satisfied: libclang>=13.0.0 in /usr/local/lib/python3.8/dist-packages (from tensorflow) (14.0.6)\n",
            "Requirement already satisfied: keras-preprocessing>=1.1.1 in /usr/local/lib/python3.8/dist-packages (from tensorflow) (1.1.2)\n",
            "Requirement already satisfied: grpcio<2.0,>=1.24.3 in /usr/local/lib/python3.8/dist-packages (from tensorflow) (1.51.1)\n",
            "Requirement already satisfied: h5py>=2.9.0 in /usr/local/lib/python3.8/dist-packages (from tensorflow) (3.1.0)\n",
            "Requirement already satisfied: six>=1.12.0 in /usr/local/lib/python3.8/dist-packages (from tensorflow) (1.15.0)\n",
            "Requirement already satisfied: typing-extensions>=3.6.6 in /usr/local/lib/python3.8/dist-packages (from tensorflow) (4.4.0)\n",
            "Requirement already satisfied: packaging in /usr/local/lib/python3.8/dist-packages (from tensorflow) (21.3)\n",
            "Requirement already satisfied: wheel<1.0,>=0.23.0 in /usr/local/lib/python3.8/dist-packages (from astunparse>=1.6.0->tensorflow) (0.38.4)\n",
            "Requirement already satisfied: google-auth<3,>=1.6.3 in /usr/local/lib/python3.8/dist-packages (from tensorboard<2.10,>=2.9->tensorflow) (2.15.0)\n",
            "Requirement already satisfied: tensorboard-plugin-wit>=1.6.0 in /usr/local/lib/python3.8/dist-packages (from tensorboard<2.10,>=2.9->tensorflow) (1.8.1)\n",
            "Requirement already satisfied: werkzeug>=1.0.1 in /usr/local/lib/python3.8/dist-packages (from tensorboard<2.10,>=2.9->tensorflow) (1.0.1)\n",
            "Requirement already satisfied: tensorboard-data-server<0.7.0,>=0.6.0 in /usr/local/lib/python3.8/dist-packages (from tensorboard<2.10,>=2.9->tensorflow) (0.6.1)\n",
            "Requirement already satisfied: markdown>=2.6.8 in /usr/local/lib/python3.8/dist-packages (from tensorboard<2.10,>=2.9->tensorflow) (3.4.1)\n",
            "Requirement already satisfied: google-auth-oauthlib<0.5,>=0.4.1 in /usr/local/lib/python3.8/dist-packages (from tensorboard<2.10,>=2.9->tensorflow) (0.4.6)\n",
            "Requirement already satisfied: requests<3,>=2.21.0 in /usr/local/lib/python3.8/dist-packages (from tensorboard<2.10,>=2.9->tensorflow) (2.23.0)\n",
            "Requirement already satisfied: rsa<5,>=3.1.4 in /usr/local/lib/python3.8/dist-packages (from google-auth<3,>=1.6.3->tensorboard<2.10,>=2.9->tensorflow) (4.9)\n",
            "Requirement already satisfied: cachetools<6.0,>=2.0.0 in /usr/local/lib/python3.8/dist-packages (from google-auth<3,>=1.6.3->tensorboard<2.10,>=2.9->tensorflow) (5.2.0)\n",
            "Requirement already satisfied: pyasn1-modules>=0.2.1 in /usr/local/lib/python3.8/dist-packages (from google-auth<3,>=1.6.3->tensorboard<2.10,>=2.9->tensorflow) (0.2.8)\n",
            "Requirement already satisfied: requests-oauthlib>=0.7.0 in /usr/local/lib/python3.8/dist-packages (from google-auth-oauthlib<0.5,>=0.4.1->tensorboard<2.10,>=2.9->tensorflow) (1.3.1)\n",
            "Requirement already satisfied: importlib-metadata>=4.4 in /usr/local/lib/python3.8/dist-packages (from markdown>=2.6.8->tensorboard<2.10,>=2.9->tensorflow) (4.13.0)\n",
            "Requirement already satisfied: zipp>=0.5 in /usr/local/lib/python3.8/dist-packages (from importlib-metadata>=4.4->markdown>=2.6.8->tensorboard<2.10,>=2.9->tensorflow) (3.11.0)\n",
            "Requirement already satisfied: pyasn1<0.5.0,>=0.4.6 in /usr/local/lib/python3.8/dist-packages (from pyasn1-modules>=0.2.1->google-auth<3,>=1.6.3->tensorboard<2.10,>=2.9->tensorflow) (0.4.8)\n",
            "Requirement already satisfied: urllib3!=1.25.0,!=1.25.1,<1.26,>=1.21.1 in /usr/local/lib/python3.8/dist-packages (from requests<3,>=2.21.0->tensorboard<2.10,>=2.9->tensorflow) (1.24.3)\n",
            "Requirement already satisfied: idna<3,>=2.5 in /usr/local/lib/python3.8/dist-packages (from requests<3,>=2.21.0->tensorboard<2.10,>=2.9->tensorflow) (2.10)\n",
            "Requirement already satisfied: chardet<4,>=3.0.2 in /usr/local/lib/python3.8/dist-packages (from requests<3,>=2.21.0->tensorboard<2.10,>=2.9->tensorflow) (3.0.4)\n",
            "Requirement already satisfied: certifi>=2017.4.17 in /usr/local/lib/python3.8/dist-packages (from requests<3,>=2.21.0->tensorboard<2.10,>=2.9->tensorflow) (2022.9.24)\n",
            "Requirement already satisfied: oauthlib>=3.0.0 in /usr/local/lib/python3.8/dist-packages (from requests-oauthlib>=0.7.0->google-auth-oauthlib<0.5,>=0.4.1->tensorboard<2.10,>=2.9->tensorflow) (3.2.2)\n",
            "Requirement already satisfied: pyparsing!=3.0.5,>=2.0.2 in /usr/local/lib/python3.8/dist-packages (from packaging->tensorflow) (3.0.9)\n"
          ]
        }
      ]
    },
    {
      "cell_type": "code",
      "source": [
        "from keras.models import Sequential\n",
        "from keras.layers import Dense,LSTM,BatchNormalization,Dropout\n",
        "from keras.wrappers.scikit_learn import  KerasClassifier\n",
        "from keras.utils import np_utils"
      ],
      "metadata": {
        "id": "w_gJcyTUNzCX"
      },
      "execution_count": null,
      "outputs": []
    },
    {
      "cell_type": "code",
      "source": [
        "x=df.values[:,0:4]\n",
        "y=df.values[:,5]\n",
        "x=x.reshape(x.shape+(1,))\n",
        "x = np.asarray(x).astype('float32')\n",
        "y=np_utils.to_categorical(df.values[:,5])\n",
        "xtrain,xtest,ytrain,ytest=model_selection.train_test_split(x,y,train_size=0.8)"
      ],
      "metadata": {
        "id": "ZOg1z8KHNHLr"
      },
      "execution_count": null,
      "outputs": []
    },
    {
      "cell_type": "code",
      "source": [
        "model = Sequential()\n",
        "model.add(Dense(4,input_shape=(4,),activation='relu'))\n",
        "model.add(Dense(3,activation='softmax'))\n",
        "model.compile(optimizer='adam', loss='categorical_crossentropy', metrics=['accuracy'])\n",
        "iris_model = model.fit(xtrain, ytrain, epochs=500, batch_size=7)"
      ],
      "metadata": {
        "colab": {
          "base_uri": "https://localhost:8080/"
        },
        "id": "JjsHriLWNkzl",
        "outputId": "c0e99794-fcba-4826-bc7c-9705a024af6f"
      },
      "execution_count": null,
      "outputs": [
        {
          "output_type": "stream",
          "name": "stdout",
          "text": [
            "Epoch 1/500\n",
            "18/18 [==============================] - 1s 4ms/step - loss: 16.6038 - accuracy: 0.3333\n",
            "Epoch 2/500\n",
            "18/18 [==============================] - 0s 4ms/step - loss: 13.3779 - accuracy: 0.3333\n",
            "Epoch 3/500\n",
            "18/18 [==============================] - 0s 2ms/step - loss: 10.3432 - accuracy: 0.3333\n",
            "Epoch 4/500\n",
            "18/18 [==============================] - 0s 3ms/step - loss: 7.5309 - accuracy: 0.3333\n",
            "Epoch 5/500\n",
            "18/18 [==============================] - 0s 3ms/step - loss: 5.8661 - accuracy: 0.3250\n",
            "Epoch 6/500\n",
            "18/18 [==============================] - 0s 5ms/step - loss: 5.3621 - accuracy: 0.3667\n",
            "Epoch 7/500\n",
            "18/18 [==============================] - 0s 5ms/step - loss: 4.8013 - accuracy: 0.2333\n",
            "Epoch 8/500\n",
            "18/18 [==============================] - 0s 6ms/step - loss: 4.2790 - accuracy: 0.1917\n",
            "Epoch 9/500\n",
            "18/18 [==============================] - 0s 3ms/step - loss: 3.8261 - accuracy: 0.3583\n",
            "Epoch 10/500\n",
            "18/18 [==============================] - 0s 6ms/step - loss: 3.2930 - accuracy: 0.2750\n",
            "Epoch 11/500\n",
            "18/18 [==============================] - 0s 5ms/step - loss: 2.8191 - accuracy: 0.2167\n",
            "Epoch 12/500\n",
            "18/18 [==============================] - 0s 5ms/step - loss: 2.3372 - accuracy: 0.2667\n",
            "Epoch 13/500\n",
            "18/18 [==============================] - 0s 5ms/step - loss: 1.8799 - accuracy: 0.3667\n",
            "Epoch 14/500\n",
            "18/18 [==============================] - 0s 4ms/step - loss: 1.4700 - accuracy: 0.3583\n",
            "Epoch 15/500\n",
            "18/18 [==============================] - 0s 5ms/step - loss: 1.0370 - accuracy: 0.4167\n",
            "Epoch 16/500\n",
            "18/18 [==============================] - 0s 3ms/step - loss: 0.8101 - accuracy: 0.5667\n",
            "Epoch 17/500\n",
            "18/18 [==============================] - 0s 4ms/step - loss: 0.7448 - accuracy: 0.6500\n",
            "Epoch 18/500\n",
            "18/18 [==============================] - 0s 2ms/step - loss: 0.7257 - accuracy: 0.6417\n",
            "Epoch 19/500\n",
            "18/18 [==============================] - 0s 4ms/step - loss: 0.7010 - accuracy: 0.6417\n",
            "Epoch 20/500\n",
            "18/18 [==============================] - 0s 5ms/step - loss: 0.6888 - accuracy: 0.6583\n",
            "Epoch 21/500\n",
            "18/18 [==============================] - 0s 8ms/step - loss: 0.6731 - accuracy: 0.6583\n",
            "Epoch 22/500\n",
            "18/18 [==============================] - 0s 3ms/step - loss: 0.6609 - accuracy: 0.6500\n",
            "Epoch 23/500\n",
            "18/18 [==============================] - 0s 3ms/step - loss: 0.6533 - accuracy: 0.7083\n",
            "Epoch 24/500\n",
            "18/18 [==============================] - 0s 5ms/step - loss: 0.6462 - accuracy: 0.7500\n",
            "Epoch 25/500\n",
            "18/18 [==============================] - 0s 8ms/step - loss: 0.6324 - accuracy: 0.6500\n",
            "Epoch 26/500\n",
            "18/18 [==============================] - 0s 4ms/step - loss: 0.6207 - accuracy: 0.6833\n",
            "Epoch 27/500\n",
            "18/18 [==============================] - 0s 4ms/step - loss: 0.6268 - accuracy: 0.8083\n",
            "Epoch 28/500\n",
            "18/18 [==============================] - 0s 4ms/step - loss: 0.6202 - accuracy: 0.6583\n",
            "Epoch 29/500\n",
            "18/18 [==============================] - 0s 4ms/step - loss: 0.6068 - accuracy: 0.7000\n",
            "Epoch 30/500\n",
            "18/18 [==============================] - 0s 6ms/step - loss: 0.6058 - accuracy: 0.6500\n",
            "Epoch 31/500\n",
            "18/18 [==============================] - 0s 8ms/step - loss: 0.5889 - accuracy: 0.7667\n",
            "Epoch 32/500\n",
            "18/18 [==============================] - 0s 8ms/step - loss: 0.6013 - accuracy: 0.6583\n",
            "Epoch 33/500\n",
            "18/18 [==============================] - 0s 4ms/step - loss: 0.5806 - accuracy: 0.7000\n",
            "Epoch 34/500\n",
            "18/18 [==============================] - 0s 7ms/step - loss: 0.5756 - accuracy: 0.7750\n",
            "Epoch 35/500\n",
            "18/18 [==============================] - 0s 12ms/step - loss: 0.5756 - accuracy: 0.6667\n",
            "Epoch 36/500\n",
            "18/18 [==============================] - 0s 10ms/step - loss: 0.5715 - accuracy: 0.7667\n",
            "Epoch 37/500\n",
            "18/18 [==============================] - 0s 6ms/step - loss: 0.5574 - accuracy: 0.7667\n",
            "Epoch 38/500\n",
            "18/18 [==============================] - 0s 5ms/step - loss: 0.5560 - accuracy: 0.8167\n",
            "Epoch 39/500\n",
            "18/18 [==============================] - 0s 6ms/step - loss: 0.5499 - accuracy: 0.6667\n",
            "Epoch 40/500\n",
            "18/18 [==============================] - 0s 5ms/step - loss: 0.5399 - accuracy: 0.7167\n",
            "Epoch 41/500\n",
            "18/18 [==============================] - 0s 7ms/step - loss: 0.5412 - accuracy: 0.8167\n",
            "Epoch 42/500\n",
            "18/18 [==============================] - 0s 2ms/step - loss: 0.5400 - accuracy: 0.7833\n",
            "Epoch 43/500\n",
            "18/18 [==============================] - 0s 4ms/step - loss: 0.5293 - accuracy: 0.7083\n",
            "Epoch 44/500\n",
            "18/18 [==============================] - 0s 5ms/step - loss: 0.5363 - accuracy: 0.8417\n",
            "Epoch 45/500\n",
            "18/18 [==============================] - 0s 5ms/step - loss: 0.5443 - accuracy: 0.6917\n",
            "Epoch 46/500\n",
            "18/18 [==============================] - 0s 3ms/step - loss: 0.5327 - accuracy: 0.8333\n",
            "Epoch 47/500\n",
            "18/18 [==============================] - 0s 8ms/step - loss: 0.5261 - accuracy: 0.6917\n",
            "Epoch 48/500\n",
            "18/18 [==============================] - 0s 8ms/step - loss: 0.5229 - accuracy: 0.8083\n",
            "Epoch 49/500\n",
            "18/18 [==============================] - 0s 4ms/step - loss: 0.5245 - accuracy: 0.7000\n",
            "Epoch 50/500\n",
            "18/18 [==============================] - 0s 4ms/step - loss: 0.5026 - accuracy: 0.8000\n",
            "Epoch 51/500\n",
            "18/18 [==============================] - 0s 5ms/step - loss: 0.5011 - accuracy: 0.8000\n",
            "Epoch 52/500\n",
            "18/18 [==============================] - 0s 4ms/step - loss: 0.4970 - accuracy: 0.7667\n",
            "Epoch 53/500\n",
            "18/18 [==============================] - 0s 5ms/step - loss: 0.4951 - accuracy: 0.8333\n",
            "Epoch 54/500\n",
            "18/18 [==============================] - 0s 4ms/step - loss: 0.4898 - accuracy: 0.8417\n",
            "Epoch 55/500\n",
            "18/18 [==============================] - 0s 2ms/step - loss: 0.4882 - accuracy: 0.7500\n",
            "Epoch 56/500\n",
            "18/18 [==============================] - 0s 2ms/step - loss: 0.4873 - accuracy: 0.7583\n",
            "Epoch 57/500\n",
            "18/18 [==============================] - 0s 4ms/step - loss: 0.4903 - accuracy: 0.8750\n",
            "Epoch 58/500\n",
            "18/18 [==============================] - 0s 8ms/step - loss: 0.4799 - accuracy: 0.8417\n",
            "Epoch 59/500\n",
            "18/18 [==============================] - 0s 5ms/step - loss: 0.4836 - accuracy: 0.7417\n",
            "Epoch 60/500\n",
            "18/18 [==============================] - 0s 3ms/step - loss: 0.4841 - accuracy: 0.8250\n",
            "Epoch 61/500\n",
            "18/18 [==============================] - 0s 5ms/step - loss: 0.4730 - accuracy: 0.7750\n",
            "Epoch 62/500\n",
            "18/18 [==============================] - 0s 5ms/step - loss: 0.4736 - accuracy: 0.7417\n",
            "Epoch 63/500\n",
            "18/18 [==============================] - 0s 12ms/step - loss: 0.4844 - accuracy: 0.8750\n",
            "Epoch 64/500\n",
            "18/18 [==============================] - 0s 8ms/step - loss: 0.4639 - accuracy: 0.7917\n",
            "Epoch 65/500\n",
            "18/18 [==============================] - 0s 10ms/step - loss: 0.4640 - accuracy: 0.8333\n",
            "Epoch 66/500\n",
            "18/18 [==============================] - 0s 8ms/step - loss: 0.4635 - accuracy: 0.7917\n",
            "Epoch 67/500\n",
            "18/18 [==============================] - 0s 7ms/step - loss: 0.4552 - accuracy: 0.8250\n",
            "Epoch 68/500\n",
            "18/18 [==============================] - 0s 17ms/step - loss: 0.4551 - accuracy: 0.8333\n",
            "Epoch 69/500\n",
            "18/18 [==============================] - 0s 14ms/step - loss: 0.4551 - accuracy: 0.7917\n",
            "Epoch 70/500\n",
            "18/18 [==============================] - 0s 4ms/step - loss: 0.4472 - accuracy: 0.8417\n",
            "Epoch 71/500\n",
            "18/18 [==============================] - 0s 8ms/step - loss: 0.4481 - accuracy: 0.8000\n",
            "Epoch 72/500\n",
            "18/18 [==============================] - 0s 5ms/step - loss: 0.4492 - accuracy: 0.7917\n",
            "Epoch 73/500\n",
            "18/18 [==============================] - 0s 8ms/step - loss: 0.4457 - accuracy: 0.7917\n",
            "Epoch 74/500\n",
            "18/18 [==============================] - 0s 9ms/step - loss: 0.4414 - accuracy: 0.7833\n",
            "Epoch 75/500\n",
            "18/18 [==============================] - 0s 7ms/step - loss: 0.4366 - accuracy: 0.8417\n",
            "Epoch 76/500\n",
            "18/18 [==============================] - 0s 5ms/step - loss: 0.4422 - accuracy: 0.7917\n",
            "Epoch 77/500\n",
            "18/18 [==============================] - 0s 4ms/step - loss: 0.4499 - accuracy: 0.8750\n",
            "Epoch 78/500\n",
            "18/18 [==============================] - 0s 3ms/step - loss: 0.4400 - accuracy: 0.7833\n",
            "Epoch 79/500\n",
            "18/18 [==============================] - 0s 3ms/step - loss: 0.4412 - accuracy: 0.8500\n",
            "Epoch 80/500\n",
            "18/18 [==============================] - 0s 4ms/step - loss: 0.4266 - accuracy: 0.8500\n",
            "Epoch 81/500\n",
            "18/18 [==============================] - 0s 5ms/step - loss: 0.4231 - accuracy: 0.8167\n",
            "Epoch 82/500\n",
            "18/18 [==============================] - 0s 5ms/step - loss: 0.4244 - accuracy: 0.8667\n",
            "Epoch 83/500\n",
            "18/18 [==============================] - 0s 2ms/step - loss: 0.4213 - accuracy: 0.8417\n",
            "Epoch 84/500\n",
            "18/18 [==============================] - 0s 4ms/step - loss: 0.4248 - accuracy: 0.8083\n",
            "Epoch 85/500\n",
            "18/18 [==============================] - 0s 4ms/step - loss: 0.4151 - accuracy: 0.8333\n",
            "Epoch 86/500\n",
            "18/18 [==============================] - 0s 7ms/step - loss: 0.4194 - accuracy: 0.8667\n",
            "Epoch 87/500\n",
            "18/18 [==============================] - 0s 5ms/step - loss: 0.4152 - accuracy: 0.8250\n",
            "Epoch 88/500\n",
            "18/18 [==============================] - 0s 4ms/step - loss: 0.4298 - accuracy: 0.8750\n",
            "Epoch 89/500\n",
            "18/18 [==============================] - 0s 5ms/step - loss: 0.4165 - accuracy: 0.8083\n",
            "Epoch 90/500\n",
            "18/18 [==============================] - 0s 4ms/step - loss: 0.4135 - accuracy: 0.8333\n",
            "Epoch 91/500\n",
            "18/18 [==============================] - 0s 4ms/step - loss: 0.4123 - accuracy: 0.8333\n",
            "Epoch 92/500\n",
            "18/18 [==============================] - 0s 10ms/step - loss: 0.4056 - accuracy: 0.8333\n",
            "Epoch 93/500\n",
            "18/18 [==============================] - 0s 9ms/step - loss: 0.4033 - accuracy: 0.8583\n",
            "Epoch 94/500\n",
            "18/18 [==============================] - 0s 10ms/step - loss: 0.4016 - accuracy: 0.8250\n",
            "Epoch 95/500\n",
            "18/18 [==============================] - 0s 3ms/step - loss: 0.4088 - accuracy: 0.8500\n",
            "Epoch 96/500\n",
            "18/18 [==============================] - 0s 4ms/step - loss: 0.4123 - accuracy: 0.8000\n",
            "Epoch 97/500\n",
            "18/18 [==============================] - 0s 5ms/step - loss: 0.4044 - accuracy: 0.8750\n",
            "Epoch 98/500\n",
            "18/18 [==============================] - 0s 6ms/step - loss: 0.3942 - accuracy: 0.8500\n",
            "Epoch 99/500\n",
            "18/18 [==============================] - 0s 4ms/step - loss: 0.4078 - accuracy: 0.8667\n",
            "Epoch 100/500\n",
            "18/18 [==============================] - 0s 3ms/step - loss: 0.3926 - accuracy: 0.8583\n",
            "Epoch 101/500\n",
            "18/18 [==============================] - 0s 5ms/step - loss: 0.3943 - accuracy: 0.8417\n",
            "Epoch 102/500\n",
            "18/18 [==============================] - 0s 6ms/step - loss: 0.3870 - accuracy: 0.8833\n",
            "Epoch 103/500\n",
            "18/18 [==============================] - 0s 6ms/step - loss: 0.3846 - accuracy: 0.8500\n",
            "Epoch 104/500\n",
            "18/18 [==============================] - 0s 11ms/step - loss: 0.3840 - accuracy: 0.8583\n",
            "Epoch 105/500\n",
            "18/18 [==============================] - 0s 4ms/step - loss: 0.3902 - accuracy: 0.8250\n",
            "Epoch 106/500\n",
            "18/18 [==============================] - 0s 3ms/step - loss: 0.3894 - accuracy: 0.9250\n",
            "Epoch 107/500\n",
            "18/18 [==============================] - 0s 5ms/step - loss: 0.3827 - accuracy: 0.8417\n",
            "Epoch 108/500\n",
            "18/18 [==============================] - 0s 5ms/step - loss: 0.3832 - accuracy: 0.8583\n",
            "Epoch 109/500\n",
            "18/18 [==============================] - 0s 6ms/step - loss: 0.3762 - accuracy: 0.8667\n",
            "Epoch 110/500\n",
            "18/18 [==============================] - 0s 7ms/step - loss: 0.3805 - accuracy: 0.8917\n",
            "Epoch 111/500\n",
            "18/18 [==============================] - 0s 4ms/step - loss: 0.3738 - accuracy: 0.8667\n",
            "Epoch 112/500\n",
            "18/18 [==============================] - 0s 6ms/step - loss: 0.3711 - accuracy: 0.8667\n",
            "Epoch 113/500\n",
            "18/18 [==============================] - 0s 5ms/step - loss: 0.3752 - accuracy: 0.9417\n",
            "Epoch 114/500\n",
            "18/18 [==============================] - 0s 2ms/step - loss: 0.3695 - accuracy: 0.8500\n",
            "Epoch 115/500\n",
            "18/18 [==============================] - 0s 3ms/step - loss: 0.3661 - accuracy: 0.8667\n",
            "Epoch 116/500\n",
            "18/18 [==============================] - 0s 2ms/step - loss: 0.3701 - accuracy: 0.8917\n",
            "Epoch 117/500\n",
            "18/18 [==============================] - 0s 3ms/step - loss: 0.3634 - accuracy: 0.8750\n",
            "Epoch 118/500\n",
            "18/18 [==============================] - 0s 2ms/step - loss: 0.3657 - accuracy: 0.8833\n",
            "Epoch 119/500\n",
            "18/18 [==============================] - 0s 2ms/step - loss: 0.3702 - accuracy: 0.8417\n",
            "Epoch 120/500\n",
            "18/18 [==============================] - 0s 2ms/step - loss: 0.3606 - accuracy: 0.8583\n",
            "Epoch 121/500\n",
            "18/18 [==============================] - 0s 2ms/step - loss: 0.3644 - accuracy: 0.8500\n",
            "Epoch 122/500\n",
            "18/18 [==============================] - 0s 2ms/step - loss: 0.3560 - accuracy: 0.8833\n",
            "Epoch 123/500\n",
            "18/18 [==============================] - 0s 2ms/step - loss: 0.3553 - accuracy: 0.8500\n",
            "Epoch 124/500\n",
            "18/18 [==============================] - 0s 2ms/step - loss: 0.3526 - accuracy: 0.8917\n",
            "Epoch 125/500\n",
            "18/18 [==============================] - 0s 2ms/step - loss: 0.3621 - accuracy: 0.8417\n",
            "Epoch 126/500\n",
            "18/18 [==============================] - 0s 2ms/step - loss: 0.3611 - accuracy: 0.9000\n",
            "Epoch 127/500\n",
            "18/18 [==============================] - 0s 2ms/step - loss: 0.3519 - accuracy: 0.9000\n",
            "Epoch 128/500\n",
            "18/18 [==============================] - 0s 2ms/step - loss: 0.3486 - accuracy: 0.8583\n",
            "Epoch 129/500\n",
            "18/18 [==============================] - 0s 2ms/step - loss: 0.3507 - accuracy: 0.8917\n",
            "Epoch 130/500\n",
            "18/18 [==============================] - 0s 2ms/step - loss: 0.3485 - accuracy: 0.8583\n",
            "Epoch 131/500\n",
            "18/18 [==============================] - 0s 2ms/step - loss: 0.3450 - accuracy: 0.9000\n",
            "Epoch 132/500\n",
            "18/18 [==============================] - 0s 2ms/step - loss: 0.3458 - accuracy: 0.8667\n",
            "Epoch 133/500\n",
            "18/18 [==============================] - 0s 2ms/step - loss: 0.3448 - accuracy: 0.8583\n",
            "Epoch 134/500\n",
            "18/18 [==============================] - 0s 3ms/step - loss: 0.3511 - accuracy: 0.9500\n",
            "Epoch 135/500\n",
            "18/18 [==============================] - 0s 2ms/step - loss: 0.3473 - accuracy: 0.8417\n",
            "Epoch 136/500\n",
            "18/18 [==============================] - 0s 3ms/step - loss: 0.3460 - accuracy: 0.8583\n",
            "Epoch 137/500\n",
            "18/18 [==============================] - 0s 2ms/step - loss: 0.3448 - accuracy: 0.9250\n",
            "Epoch 138/500\n",
            "18/18 [==============================] - 0s 2ms/step - loss: 0.3404 - accuracy: 0.9000\n",
            "Epoch 139/500\n",
            "18/18 [==============================] - 0s 2ms/step - loss: 0.3364 - accuracy: 0.8833\n",
            "Epoch 140/500\n",
            "18/18 [==============================] - 0s 2ms/step - loss: 0.3489 - accuracy: 0.8583\n",
            "Epoch 141/500\n",
            "18/18 [==============================] - 0s 2ms/step - loss: 0.3315 - accuracy: 0.9000\n",
            "Epoch 142/500\n",
            "18/18 [==============================] - 0s 2ms/step - loss: 0.3319 - accuracy: 0.8833\n",
            "Epoch 143/500\n",
            "18/18 [==============================] - 0s 2ms/step - loss: 0.3408 - accuracy: 0.9250\n",
            "Epoch 144/500\n",
            "18/18 [==============================] - 0s 2ms/step - loss: 0.3393 - accuracy: 0.8583\n",
            "Epoch 145/500\n",
            "18/18 [==============================] - 0s 2ms/step - loss: 0.3348 - accuracy: 0.9500\n",
            "Epoch 146/500\n",
            "18/18 [==============================] - 0s 2ms/step - loss: 0.3385 - accuracy: 0.8500\n",
            "Epoch 147/500\n",
            "18/18 [==============================] - 0s 2ms/step - loss: 0.3260 - accuracy: 0.8917\n",
            "Epoch 148/500\n",
            "18/18 [==============================] - 0s 2ms/step - loss: 0.3431 - accuracy: 0.8333\n",
            "Epoch 149/500\n",
            "18/18 [==============================] - 0s 2ms/step - loss: 0.3272 - accuracy: 0.9167\n",
            "Epoch 150/500\n",
            "18/18 [==============================] - 0s 2ms/step - loss: 0.3303 - accuracy: 0.8500\n",
            "Epoch 151/500\n",
            "18/18 [==============================] - 0s 2ms/step - loss: 0.3227 - accuracy: 0.8667\n",
            "Epoch 152/500\n",
            "18/18 [==============================] - 0s 2ms/step - loss: 0.3205 - accuracy: 0.9250\n",
            "Epoch 153/500\n",
            "18/18 [==============================] - 0s 2ms/step - loss: 0.3212 - accuracy: 0.8917\n",
            "Epoch 154/500\n",
            "18/18 [==============================] - 0s 2ms/step - loss: 0.3248 - accuracy: 0.8917\n",
            "Epoch 155/500\n",
            "18/18 [==============================] - 0s 3ms/step - loss: 0.3275 - accuracy: 0.8583\n",
            "Epoch 156/500\n",
            "18/18 [==============================] - 0s 2ms/step - loss: 0.3143 - accuracy: 0.9333\n",
            "Epoch 157/500\n",
            "18/18 [==============================] - 0s 2ms/step - loss: 0.3155 - accuracy: 0.8833\n",
            "Epoch 158/500\n",
            "18/18 [==============================] - 0s 3ms/step - loss: 0.3153 - accuracy: 0.9500\n",
            "Epoch 159/500\n",
            "18/18 [==============================] - 0s 2ms/step - loss: 0.3202 - accuracy: 0.8750\n",
            "Epoch 160/500\n",
            "18/18 [==============================] - 0s 2ms/step - loss: 0.3178 - accuracy: 0.9000\n",
            "Epoch 161/500\n",
            "18/18 [==============================] - 0s 2ms/step - loss: 0.3142 - accuracy: 0.8833\n",
            "Epoch 162/500\n",
            "18/18 [==============================] - 0s 2ms/step - loss: 0.3255 - accuracy: 0.9083\n",
            "Epoch 163/500\n",
            "18/18 [==============================] - 0s 2ms/step - loss: 0.3085 - accuracy: 0.9167\n",
            "Epoch 164/500\n",
            "18/18 [==============================] - 0s 2ms/step - loss: 0.3052 - accuracy: 0.9000\n",
            "Epoch 165/500\n",
            "18/18 [==============================] - 0s 2ms/step - loss: 0.3084 - accuracy: 0.8833\n",
            "Epoch 166/500\n",
            "18/18 [==============================] - 0s 2ms/step - loss: 0.3174 - accuracy: 0.9083\n",
            "Epoch 167/500\n",
            "18/18 [==============================] - 0s 3ms/step - loss: 0.3012 - accuracy: 0.8917\n",
            "Epoch 168/500\n",
            "18/18 [==============================] - 0s 2ms/step - loss: 0.3040 - accuracy: 0.9167\n",
            "Epoch 169/500\n",
            "18/18 [==============================] - 0s 2ms/step - loss: 0.3072 - accuracy: 0.9583\n",
            "Epoch 170/500\n",
            "18/18 [==============================] - 0s 2ms/step - loss: 0.3011 - accuracy: 0.8750\n",
            "Epoch 171/500\n",
            "18/18 [==============================] - 0s 2ms/step - loss: 0.3015 - accuracy: 0.9250\n",
            "Epoch 172/500\n",
            "18/18 [==============================] - 0s 2ms/step - loss: 0.3008 - accuracy: 0.8667\n",
            "Epoch 173/500\n",
            "18/18 [==============================] - 0s 2ms/step - loss: 0.3075 - accuracy: 0.9167\n",
            "Epoch 174/500\n",
            "18/18 [==============================] - 0s 2ms/step - loss: 0.3116 - accuracy: 0.9250\n",
            "Epoch 175/500\n",
            "18/18 [==============================] - 0s 2ms/step - loss: 0.2952 - accuracy: 0.8833\n",
            "Epoch 176/500\n",
            "18/18 [==============================] - 0s 3ms/step - loss: 0.2956 - accuracy: 0.9083\n",
            "Epoch 177/500\n",
            "18/18 [==============================] - 0s 2ms/step - loss: 0.2944 - accuracy: 0.9083\n",
            "Epoch 178/500\n",
            "18/18 [==============================] - 0s 3ms/step - loss: 0.2949 - accuracy: 0.8917\n",
            "Epoch 179/500\n",
            "18/18 [==============================] - 0s 2ms/step - loss: 0.2967 - accuracy: 0.9583\n",
            "Epoch 180/500\n",
            "18/18 [==============================] - 0s 2ms/step - loss: 0.3054 - accuracy: 0.8500\n",
            "Epoch 181/500\n",
            "18/18 [==============================] - 0s 2ms/step - loss: 0.2925 - accuracy: 0.9333\n",
            "Epoch 182/500\n",
            "18/18 [==============================] - 0s 2ms/step - loss: 0.2905 - accuracy: 0.9417\n",
            "Epoch 183/500\n",
            "18/18 [==============================] - 0s 2ms/step - loss: 0.2936 - accuracy: 0.9417\n",
            "Epoch 184/500\n",
            "18/18 [==============================] - 0s 3ms/step - loss: 0.2883 - accuracy: 0.8917\n",
            "Epoch 185/500\n",
            "18/18 [==============================] - 0s 2ms/step - loss: 0.2939 - accuracy: 0.9667\n",
            "Epoch 186/500\n",
            "18/18 [==============================] - 0s 2ms/step - loss: 0.2847 - accuracy: 0.9083\n",
            "Epoch 187/500\n",
            "18/18 [==============================] - 0s 2ms/step - loss: 0.2967 - accuracy: 0.9417\n",
            "Epoch 188/500\n",
            "18/18 [==============================] - 0s 3ms/step - loss: 0.2853 - accuracy: 0.8917\n",
            "Epoch 189/500\n",
            "18/18 [==============================] - 0s 2ms/step - loss: 0.2833 - accuracy: 0.9167\n",
            "Epoch 190/500\n",
            "18/18 [==============================] - 0s 3ms/step - loss: 0.2848 - accuracy: 0.8917\n",
            "Epoch 191/500\n",
            "18/18 [==============================] - 0s 3ms/step - loss: 0.2787 - accuracy: 0.9000\n",
            "Epoch 192/500\n",
            "18/18 [==============================] - 0s 2ms/step - loss: 0.2778 - accuracy: 0.9167\n",
            "Epoch 193/500\n",
            "18/18 [==============================] - 0s 3ms/step - loss: 0.2842 - accuracy: 0.9333\n",
            "Epoch 194/500\n",
            "18/18 [==============================] - 0s 4ms/step - loss: 0.2765 - accuracy: 0.9000\n",
            "Epoch 195/500\n",
            "18/18 [==============================] - 0s 3ms/step - loss: 0.2795 - accuracy: 0.9583\n",
            "Epoch 196/500\n",
            "18/18 [==============================] - 0s 3ms/step - loss: 0.2802 - accuracy: 0.9333\n",
            "Epoch 197/500\n",
            "18/18 [==============================] - 0s 2ms/step - loss: 0.2763 - accuracy: 0.9167\n",
            "Epoch 198/500\n",
            "18/18 [==============================] - 0s 2ms/step - loss: 0.2760 - accuracy: 0.9083\n",
            "Epoch 199/500\n",
            "18/18 [==============================] - 0s 2ms/step - loss: 0.2777 - accuracy: 0.9083\n",
            "Epoch 200/500\n",
            "18/18 [==============================] - 0s 3ms/step - loss: 0.2830 - accuracy: 0.9250\n",
            "Epoch 201/500\n",
            "18/18 [==============================] - 0s 2ms/step - loss: 0.2768 - accuracy: 0.8833\n",
            "Epoch 202/500\n",
            "18/18 [==============================] - 0s 3ms/step - loss: 0.2705 - accuracy: 0.9167\n",
            "Epoch 203/500\n",
            "18/18 [==============================] - 0s 2ms/step - loss: 0.2794 - accuracy: 0.8667\n",
            "Epoch 204/500\n",
            "18/18 [==============================] - 0s 2ms/step - loss: 0.2701 - accuracy: 0.9583\n",
            "Epoch 205/500\n",
            "18/18 [==============================] - 0s 3ms/step - loss: 0.2676 - accuracy: 0.9417\n",
            "Epoch 206/500\n",
            "18/18 [==============================] - 0s 2ms/step - loss: 0.2628 - accuracy: 0.9250\n",
            "Epoch 207/500\n",
            "18/18 [==============================] - 0s 3ms/step - loss: 0.2672 - accuracy: 0.9000\n",
            "Epoch 208/500\n",
            "18/18 [==============================] - 0s 2ms/step - loss: 0.2686 - accuracy: 0.9250\n",
            "Epoch 209/500\n",
            "18/18 [==============================] - 0s 2ms/step - loss: 0.2638 - accuracy: 0.9667\n",
            "Epoch 210/500\n",
            "18/18 [==============================] - 0s 2ms/step - loss: 0.2666 - accuracy: 0.9000\n",
            "Epoch 211/500\n",
            "18/18 [==============================] - 0s 3ms/step - loss: 0.2727 - accuracy: 0.9333\n",
            "Epoch 212/500\n",
            "18/18 [==============================] - 0s 3ms/step - loss: 0.2661 - accuracy: 0.9083\n",
            "Epoch 213/500\n",
            "18/18 [==============================] - 0s 2ms/step - loss: 0.2627 - accuracy: 0.9167\n",
            "Epoch 214/500\n",
            "18/18 [==============================] - 0s 2ms/step - loss: 0.2590 - accuracy: 0.9167\n",
            "Epoch 215/500\n",
            "18/18 [==============================] - 0s 2ms/step - loss: 0.2736 - accuracy: 0.9417\n",
            "Epoch 216/500\n",
            "18/18 [==============================] - 0s 2ms/step - loss: 0.2673 - accuracy: 0.9000\n",
            "Epoch 217/500\n",
            "18/18 [==============================] - 0s 2ms/step - loss: 0.2592 - accuracy: 0.9583\n",
            "Epoch 218/500\n",
            "18/18 [==============================] - 0s 2ms/step - loss: 0.2560 - accuracy: 0.9000\n",
            "Epoch 219/500\n",
            "18/18 [==============================] - 0s 2ms/step - loss: 0.2532 - accuracy: 0.9500\n",
            "Epoch 220/500\n",
            "18/18 [==============================] - 0s 3ms/step - loss: 0.2571 - accuracy: 0.9083\n",
            "Epoch 221/500\n",
            "18/18 [==============================] - 0s 2ms/step - loss: 0.2507 - accuracy: 0.9333\n",
            "Epoch 222/500\n",
            "18/18 [==============================] - 0s 2ms/step - loss: 0.2527 - accuracy: 0.9333\n",
            "Epoch 223/500\n",
            "18/18 [==============================] - 0s 2ms/step - loss: 0.2498 - accuracy: 0.9250\n",
            "Epoch 224/500\n",
            "18/18 [==============================] - 0s 2ms/step - loss: 0.2529 - accuracy: 0.9250\n",
            "Epoch 225/500\n",
            "18/18 [==============================] - 0s 3ms/step - loss: 0.2535 - accuracy: 0.9333\n",
            "Epoch 226/500\n",
            "18/18 [==============================] - 0s 2ms/step - loss: 0.2545 - accuracy: 0.9583\n",
            "Epoch 227/500\n",
            "18/18 [==============================] - 0s 2ms/step - loss: 0.2494 - accuracy: 0.9250\n",
            "Epoch 228/500\n",
            "18/18 [==============================] - 0s 2ms/step - loss: 0.2464 - accuracy: 0.9667\n",
            "Epoch 229/500\n",
            "18/18 [==============================] - 0s 2ms/step - loss: 0.2488 - accuracy: 0.9000\n",
            "Epoch 230/500\n",
            "18/18 [==============================] - 0s 2ms/step - loss: 0.2457 - accuracy: 0.9583\n",
            "Epoch 231/500\n",
            "18/18 [==============================] - 0s 2ms/step - loss: 0.2476 - accuracy: 0.9000\n",
            "Epoch 232/500\n",
            "18/18 [==============================] - 0s 2ms/step - loss: 0.2482 - accuracy: 0.9167\n",
            "Epoch 233/500\n",
            "18/18 [==============================] - 0s 2ms/step - loss: 0.2490 - accuracy: 0.9250\n",
            "Epoch 234/500\n",
            "18/18 [==============================] - 0s 3ms/step - loss: 0.2444 - accuracy: 0.9500\n",
            "Epoch 235/500\n",
            "18/18 [==============================] - 0s 2ms/step - loss: 0.2542 - accuracy: 0.9583\n",
            "Epoch 236/500\n",
            "18/18 [==============================] - 0s 3ms/step - loss: 0.2607 - accuracy: 0.8917\n",
            "Epoch 237/500\n",
            "18/18 [==============================] - 0s 3ms/step - loss: 0.2510 - accuracy: 0.9167\n",
            "Epoch 238/500\n",
            "18/18 [==============================] - 0s 2ms/step - loss: 0.2444 - accuracy: 0.9417\n",
            "Epoch 239/500\n",
            "18/18 [==============================] - 0s 2ms/step - loss: 0.2472 - accuracy: 0.9583\n",
            "Epoch 240/500\n",
            "18/18 [==============================] - 0s 2ms/step - loss: 0.2414 - accuracy: 0.9083\n",
            "Epoch 241/500\n",
            "18/18 [==============================] - 0s 2ms/step - loss: 0.2455 - accuracy: 0.9583\n",
            "Epoch 242/500\n",
            "18/18 [==============================] - 0s 2ms/step - loss: 0.2477 - accuracy: 0.9083\n",
            "Epoch 243/500\n",
            "18/18 [==============================] - 0s 2ms/step - loss: 0.2518 - accuracy: 0.9500\n",
            "Epoch 244/500\n",
            "18/18 [==============================] - 0s 2ms/step - loss: 0.2519 - accuracy: 0.8833\n",
            "Epoch 245/500\n",
            "18/18 [==============================] - 0s 2ms/step - loss: 0.2354 - accuracy: 0.9750\n",
            "Epoch 246/500\n",
            "18/18 [==============================] - 0s 2ms/step - loss: 0.2369 - accuracy: 0.9167\n",
            "Epoch 247/500\n",
            "18/18 [==============================] - 0s 2ms/step - loss: 0.2331 - accuracy: 0.9083\n",
            "Epoch 248/500\n",
            "18/18 [==============================] - 0s 2ms/step - loss: 0.2358 - accuracy: 0.9583\n",
            "Epoch 249/500\n",
            "18/18 [==============================] - 0s 3ms/step - loss: 0.2350 - accuracy: 0.9333\n",
            "Epoch 250/500\n",
            "18/18 [==============================] - 0s 2ms/step - loss: 0.2325 - accuracy: 0.9417\n",
            "Epoch 251/500\n",
            "18/18 [==============================] - 0s 3ms/step - loss: 0.2387 - accuracy: 0.9500\n",
            "Epoch 252/500\n",
            "18/18 [==============================] - 0s 2ms/step - loss: 0.2425 - accuracy: 0.9000\n",
            "Epoch 253/500\n",
            "18/18 [==============================] - 0s 2ms/step - loss: 0.2355 - accuracy: 0.9333\n",
            "Epoch 254/500\n",
            "18/18 [==============================] - 0s 2ms/step - loss: 0.2375 - accuracy: 0.9583\n",
            "Epoch 255/500\n",
            "18/18 [==============================] - 0s 3ms/step - loss: 0.2292 - accuracy: 0.9333\n",
            "Epoch 256/500\n",
            "18/18 [==============================] - 0s 2ms/step - loss: 0.2277 - accuracy: 0.9417\n",
            "Epoch 257/500\n",
            "18/18 [==============================] - 0s 2ms/step - loss: 0.2278 - accuracy: 0.9500\n",
            "Epoch 258/500\n",
            "18/18 [==============================] - 0s 3ms/step - loss: 0.2280 - accuracy: 0.9250\n",
            "Epoch 259/500\n",
            "18/18 [==============================] - 0s 3ms/step - loss: 0.2307 - accuracy: 0.9250\n",
            "Epoch 260/500\n",
            "18/18 [==============================] - 0s 2ms/step - loss: 0.2366 - accuracy: 0.9333\n",
            "Epoch 261/500\n",
            "18/18 [==============================] - 0s 3ms/step - loss: 0.2282 - accuracy: 0.9417\n",
            "Epoch 262/500\n",
            "18/18 [==============================] - 0s 2ms/step - loss: 0.2290 - accuracy: 0.9583\n",
            "Epoch 263/500\n",
            "18/18 [==============================] - 0s 2ms/step - loss: 0.2251 - accuracy: 0.9083\n",
            "Epoch 264/500\n",
            "18/18 [==============================] - 0s 2ms/step - loss: 0.2288 - accuracy: 0.9583\n",
            "Epoch 265/500\n",
            "18/18 [==============================] - 0s 2ms/step - loss: 0.2292 - accuracy: 0.9667\n",
            "Epoch 266/500\n",
            "18/18 [==============================] - 0s 3ms/step - loss: 0.2264 - accuracy: 0.9250\n",
            "Epoch 267/500\n",
            "18/18 [==============================] - 0s 2ms/step - loss: 0.2376 - accuracy: 0.9333\n",
            "Epoch 268/500\n",
            "18/18 [==============================] - 0s 2ms/step - loss: 0.2373 - accuracy: 0.8917\n",
            "Epoch 269/500\n",
            "18/18 [==============================] - 0s 2ms/step - loss: 0.2198 - accuracy: 0.9750\n",
            "Epoch 270/500\n",
            "18/18 [==============================] - 0s 2ms/step - loss: 0.2206 - accuracy: 0.9250\n",
            "Epoch 271/500\n",
            "18/18 [==============================] - 0s 2ms/step - loss: 0.2207 - accuracy: 0.9583\n",
            "Epoch 272/500\n",
            "18/18 [==============================] - 0s 4ms/step - loss: 0.2149 - accuracy: 0.9750\n",
            "Epoch 273/500\n",
            "18/18 [==============================] - 0s 2ms/step - loss: 0.2263 - accuracy: 0.9083\n",
            "Epoch 274/500\n",
            "18/18 [==============================] - 0s 2ms/step - loss: 0.2169 - accuracy: 0.9500\n",
            "Epoch 275/500\n",
            "18/18 [==============================] - 0s 3ms/step - loss: 0.2211 - accuracy: 0.9750\n",
            "Epoch 276/500\n",
            "18/18 [==============================] - 0s 2ms/step - loss: 0.2219 - accuracy: 0.9167\n",
            "Epoch 277/500\n",
            "18/18 [==============================] - 0s 3ms/step - loss: 0.2349 - accuracy: 0.9333\n",
            "Epoch 278/500\n",
            "18/18 [==============================] - 0s 3ms/step - loss: 0.2185 - accuracy: 0.9250\n",
            "Epoch 279/500\n",
            "18/18 [==============================] - 0s 3ms/step - loss: 0.2156 - accuracy: 0.9583\n",
            "Epoch 280/500\n",
            "18/18 [==============================] - 0s 3ms/step - loss: 0.2147 - accuracy: 0.9083\n",
            "Epoch 281/500\n",
            "18/18 [==============================] - 0s 5ms/step - loss: 0.2170 - accuracy: 0.9750\n",
            "Epoch 282/500\n",
            "18/18 [==============================] - 0s 4ms/step - loss: 0.2157 - accuracy: 0.9417\n",
            "Epoch 283/500\n",
            "18/18 [==============================] - 0s 3ms/step - loss: 0.2181 - accuracy: 0.9500\n",
            "Epoch 284/500\n",
            "18/18 [==============================] - 0s 2ms/step - loss: 0.2289 - accuracy: 0.9583\n",
            "Epoch 285/500\n",
            "18/18 [==============================] - 0s 2ms/step - loss: 0.2095 - accuracy: 0.9250\n",
            "Epoch 286/500\n",
            "18/18 [==============================] - 0s 2ms/step - loss: 0.2133 - accuracy: 0.9500\n",
            "Epoch 287/500\n",
            "18/18 [==============================] - 0s 3ms/step - loss: 0.2178 - accuracy: 0.9667\n",
            "Epoch 288/500\n",
            "18/18 [==============================] - 0s 3ms/step - loss: 0.2084 - accuracy: 0.9750\n",
            "Epoch 289/500\n",
            "18/18 [==============================] - 0s 2ms/step - loss: 0.2070 - accuracy: 0.9833\n",
            "Epoch 290/500\n",
            "18/18 [==============================] - 0s 2ms/step - loss: 0.2185 - accuracy: 0.9667\n",
            "Epoch 291/500\n",
            "18/18 [==============================] - 0s 2ms/step - loss: 0.2113 - accuracy: 0.9667\n",
            "Epoch 292/500\n",
            "18/18 [==============================] - 0s 3ms/step - loss: 0.2082 - accuracy: 0.9833\n",
            "Epoch 293/500\n",
            "18/18 [==============================] - 0s 3ms/step - loss: 0.2069 - accuracy: 0.9500\n",
            "Epoch 294/500\n",
            "18/18 [==============================] - 0s 2ms/step - loss: 0.2056 - accuracy: 0.9333\n",
            "Epoch 295/500\n",
            "18/18 [==============================] - 0s 2ms/step - loss: 0.2059 - accuracy: 0.9833\n",
            "Epoch 296/500\n",
            "18/18 [==============================] - 0s 2ms/step - loss: 0.2048 - accuracy: 0.9333\n",
            "Epoch 297/500\n",
            "18/18 [==============================] - 0s 2ms/step - loss: 0.2024 - accuracy: 0.9917\n",
            "Epoch 298/500\n",
            "18/18 [==============================] - 0s 2ms/step - loss: 0.2044 - accuracy: 0.9917\n",
            "Epoch 299/500\n",
            "18/18 [==============================] - 0s 3ms/step - loss: 0.2022 - accuracy: 0.9500\n",
            "Epoch 300/500\n",
            "18/18 [==============================] - 0s 3ms/step - loss: 0.2051 - accuracy: 0.9583\n",
            "Epoch 301/500\n",
            "18/18 [==============================] - 0s 3ms/step - loss: 0.1993 - accuracy: 0.9667\n",
            "Epoch 302/500\n",
            "18/18 [==============================] - 0s 2ms/step - loss: 0.2016 - accuracy: 0.9417\n",
            "Epoch 303/500\n",
            "18/18 [==============================] - 0s 3ms/step - loss: 0.2006 - accuracy: 0.9917\n",
            "Epoch 304/500\n",
            "18/18 [==============================] - 0s 2ms/step - loss: 0.2024 - accuracy: 0.9833\n",
            "Epoch 305/500\n",
            "18/18 [==============================] - 0s 2ms/step - loss: 0.2003 - accuracy: 0.9333\n",
            "Epoch 306/500\n",
            "18/18 [==============================] - 0s 3ms/step - loss: 0.2045 - accuracy: 0.9333\n",
            "Epoch 307/500\n",
            "18/18 [==============================] - 0s 3ms/step - loss: 0.2001 - accuracy: 0.9833\n",
            "Epoch 308/500\n",
            "18/18 [==============================] - 0s 2ms/step - loss: 0.1957 - accuracy: 0.9667\n",
            "Epoch 309/500\n",
            "18/18 [==============================] - 0s 3ms/step - loss: 0.1983 - accuracy: 0.9167\n",
            "Epoch 310/500\n",
            "18/18 [==============================] - 0s 2ms/step - loss: 0.1977 - accuracy: 0.9917\n",
            "Epoch 311/500\n",
            "18/18 [==============================] - 0s 2ms/step - loss: 0.2043 - accuracy: 0.9750\n",
            "Epoch 312/500\n",
            "18/18 [==============================] - 0s 2ms/step - loss: 0.1991 - accuracy: 0.9333\n",
            "Epoch 313/500\n",
            "18/18 [==============================] - 0s 2ms/step - loss: 0.1986 - accuracy: 0.9667\n",
            "Epoch 314/500\n",
            "18/18 [==============================] - 0s 2ms/step - loss: 0.2056 - accuracy: 0.9500\n",
            "Epoch 315/500\n",
            "18/18 [==============================] - 0s 3ms/step - loss: 0.1953 - accuracy: 0.9667\n",
            "Epoch 316/500\n",
            "18/18 [==============================] - 0s 2ms/step - loss: 0.1976 - accuracy: 0.9250\n",
            "Epoch 317/500\n",
            "18/18 [==============================] - 0s 2ms/step - loss: 0.1891 - accuracy: 0.9917\n",
            "Epoch 318/500\n",
            "18/18 [==============================] - 0s 2ms/step - loss: 0.1901 - accuracy: 1.0000\n",
            "Epoch 319/500\n",
            "18/18 [==============================] - 0s 2ms/step - loss: 0.1963 - accuracy: 0.9833\n",
            "Epoch 320/500\n",
            "18/18 [==============================] - 0s 2ms/step - loss: 0.1936 - accuracy: 0.9333\n",
            "Epoch 321/500\n",
            "18/18 [==============================] - 0s 2ms/step - loss: 0.1944 - accuracy: 0.9250\n",
            "Epoch 322/500\n",
            "18/18 [==============================] - 0s 2ms/step - loss: 0.1974 - accuracy: 0.9833\n",
            "Epoch 323/500\n",
            "18/18 [==============================] - 0s 2ms/step - loss: 0.1902 - accuracy: 0.9500\n",
            "Epoch 324/500\n",
            "18/18 [==============================] - 0s 2ms/step - loss: 0.1925 - accuracy: 0.9917\n",
            "Epoch 325/500\n",
            "18/18 [==============================] - 0s 2ms/step - loss: 0.2076 - accuracy: 0.9000\n",
            "Epoch 326/500\n",
            "18/18 [==============================] - 0s 3ms/step - loss: 0.1876 - accuracy: 1.0000\n",
            "Epoch 327/500\n",
            "18/18 [==============================] - 0s 2ms/step - loss: 0.1967 - accuracy: 0.9250\n",
            "Epoch 328/500\n",
            "18/18 [==============================] - 0s 3ms/step - loss: 0.1880 - accuracy: 0.9583\n",
            "Epoch 329/500\n",
            "18/18 [==============================] - 0s 3ms/step - loss: 0.1935 - accuracy: 0.9833\n",
            "Epoch 330/500\n",
            "18/18 [==============================] - 0s 2ms/step - loss: 0.1861 - accuracy: 0.9583\n",
            "Epoch 331/500\n",
            "18/18 [==============================] - 0s 2ms/step - loss: 0.1881 - accuracy: 0.9250\n",
            "Epoch 332/500\n",
            "18/18 [==============================] - 0s 2ms/step - loss: 0.2060 - accuracy: 0.9833\n",
            "Epoch 333/500\n",
            "18/18 [==============================] - 0s 2ms/step - loss: 0.1880 - accuracy: 0.9417\n",
            "Epoch 334/500\n",
            "18/18 [==============================] - 0s 2ms/step - loss: 0.1925 - accuracy: 0.9500\n",
            "Epoch 335/500\n",
            "18/18 [==============================] - 0s 2ms/step - loss: 0.1866 - accuracy: 0.9417\n",
            "Epoch 336/500\n",
            "18/18 [==============================] - 0s 2ms/step - loss: 0.1897 - accuracy: 0.9750\n",
            "Epoch 337/500\n",
            "18/18 [==============================] - 0s 3ms/step - loss: 0.1909 - accuracy: 0.9250\n",
            "Epoch 338/500\n",
            "18/18 [==============================] - 0s 2ms/step - loss: 0.1835 - accuracy: 0.9667\n",
            "Epoch 339/500\n",
            "18/18 [==============================] - 0s 4ms/step - loss: 0.1813 - accuracy: 0.9667\n",
            "Epoch 340/500\n",
            "18/18 [==============================] - 0s 3ms/step - loss: 0.1825 - accuracy: 1.0000\n",
            "Epoch 341/500\n",
            "18/18 [==============================] - 0s 2ms/step - loss: 0.1815 - accuracy: 1.0000\n",
            "Epoch 342/500\n",
            "18/18 [==============================] - 0s 2ms/step - loss: 0.1804 - accuracy: 0.9750\n",
            "Epoch 343/500\n",
            "18/18 [==============================] - 0s 2ms/step - loss: 0.1840 - accuracy: 0.9917\n",
            "Epoch 344/500\n",
            "18/18 [==============================] - 0s 2ms/step - loss: 0.1860 - accuracy: 0.9583\n",
            "Epoch 345/500\n",
            "18/18 [==============================] - 0s 3ms/step - loss: 0.1807 - accuracy: 0.9917\n",
            "Epoch 346/500\n",
            "18/18 [==============================] - 0s 3ms/step - loss: 0.1873 - accuracy: 0.9750\n",
            "Epoch 347/500\n",
            "18/18 [==============================] - 0s 3ms/step - loss: 0.1925 - accuracy: 0.9333\n",
            "Epoch 348/500\n",
            "18/18 [==============================] - 0s 2ms/step - loss: 0.1800 - accuracy: 0.9833\n",
            "Epoch 349/500\n",
            "18/18 [==============================] - 0s 2ms/step - loss: 0.1764 - accuracy: 0.9833\n",
            "Epoch 350/500\n",
            "18/18 [==============================] - 0s 2ms/step - loss: 0.1816 - accuracy: 1.0000\n",
            "Epoch 351/500\n",
            "18/18 [==============================] - 0s 3ms/step - loss: 0.1765 - accuracy: 0.9833\n",
            "Epoch 352/500\n",
            "18/18 [==============================] - 0s 2ms/step - loss: 0.1818 - accuracy: 0.9833\n",
            "Epoch 353/500\n",
            "18/18 [==============================] - 0s 3ms/step - loss: 0.1933 - accuracy: 0.9167\n",
            "Epoch 354/500\n",
            "18/18 [==============================] - 0s 2ms/step - loss: 0.1822 - accuracy: 0.9667\n",
            "Epoch 355/500\n",
            "18/18 [==============================] - 0s 2ms/step - loss: 0.1852 - accuracy: 0.9333\n",
            "Epoch 356/500\n",
            "18/18 [==============================] - 0s 2ms/step - loss: 0.1742 - accuracy: 0.9750\n",
            "Epoch 357/500\n",
            "18/18 [==============================] - 0s 2ms/step - loss: 0.1777 - accuracy: 0.9917\n",
            "Epoch 358/500\n",
            "18/18 [==============================] - 0s 2ms/step - loss: 0.1887 - accuracy: 0.9500\n",
            "Epoch 359/500\n",
            "18/18 [==============================] - 0s 2ms/step - loss: 0.1746 - accuracy: 0.9500\n",
            "Epoch 360/500\n",
            "18/18 [==============================] - 0s 3ms/step - loss: 0.1815 - accuracy: 0.9833\n",
            "Epoch 361/500\n",
            "18/18 [==============================] - 0s 2ms/step - loss: 0.1760 - accuracy: 0.9500\n",
            "Epoch 362/500\n",
            "18/18 [==============================] - 0s 2ms/step - loss: 0.1813 - accuracy: 0.9500\n",
            "Epoch 363/500\n",
            "18/18 [==============================] - 0s 2ms/step - loss: 0.1949 - accuracy: 0.8917\n",
            "Epoch 364/500\n",
            "18/18 [==============================] - 0s 2ms/step - loss: 0.1721 - accuracy: 0.9917\n",
            "Epoch 365/500\n",
            "18/18 [==============================] - 0s 2ms/step - loss: 0.1725 - accuracy: 0.9917\n",
            "Epoch 366/500\n",
            "18/18 [==============================] - 0s 2ms/step - loss: 0.1706 - accuracy: 0.9750\n",
            "Epoch 367/500\n",
            "18/18 [==============================] - 0s 2ms/step - loss: 0.1687 - accuracy: 0.9583\n",
            "Epoch 368/500\n",
            "18/18 [==============================] - 0s 3ms/step - loss: 0.1849 - accuracy: 0.9417\n",
            "Epoch 369/500\n",
            "18/18 [==============================] - 0s 2ms/step - loss: 0.1867 - accuracy: 0.9167\n",
            "Epoch 370/500\n",
            "18/18 [==============================] - 0s 2ms/step - loss: 0.1733 - accuracy: 0.9667\n",
            "Epoch 371/500\n",
            "18/18 [==============================] - 0s 2ms/step - loss: 0.1775 - accuracy: 0.9500\n",
            "Epoch 372/500\n",
            "18/18 [==============================] - 0s 3ms/step - loss: 0.1702 - accuracy: 0.9833\n",
            "Epoch 373/500\n",
            "18/18 [==============================] - 0s 2ms/step - loss: 0.1742 - accuracy: 0.9833\n",
            "Epoch 374/500\n",
            "18/18 [==============================] - 0s 2ms/step - loss: 0.1784 - accuracy: 0.9333\n",
            "Epoch 375/500\n",
            "18/18 [==============================] - 0s 2ms/step - loss: 0.1701 - accuracy: 0.9750\n",
            "Epoch 376/500\n",
            "18/18 [==============================] - 0s 2ms/step - loss: 0.1656 - accuracy: 0.9833\n",
            "Epoch 377/500\n",
            "18/18 [==============================] - 0s 2ms/step - loss: 0.1653 - accuracy: 0.9917\n",
            "Epoch 378/500\n",
            "18/18 [==============================] - 0s 2ms/step - loss: 0.1652 - accuracy: 0.9833\n",
            "Epoch 379/500\n",
            "18/18 [==============================] - 0s 2ms/step - loss: 0.1792 - accuracy: 0.9750\n",
            "Epoch 380/500\n",
            "18/18 [==============================] - 0s 2ms/step - loss: 0.1643 - accuracy: 1.0000\n",
            "Epoch 381/500\n",
            "18/18 [==============================] - 0s 2ms/step - loss: 0.1648 - accuracy: 0.9750\n",
            "Epoch 382/500\n",
            "18/18 [==============================] - 0s 2ms/step - loss: 0.1793 - accuracy: 0.9750\n",
            "Epoch 383/500\n",
            "18/18 [==============================] - 0s 2ms/step - loss: 0.1699 - accuracy: 0.9583\n",
            "Epoch 384/500\n",
            "18/18 [==============================] - 0s 2ms/step - loss: 0.1660 - accuracy: 0.9667\n",
            "Epoch 385/500\n",
            "18/18 [==============================] - 0s 2ms/step - loss: 0.1668 - accuracy: 0.9833\n",
            "Epoch 386/500\n",
            "18/18 [==============================] - 0s 2ms/step - loss: 0.1612 - accuracy: 0.9833\n",
            "Epoch 387/500\n",
            "18/18 [==============================] - 0s 3ms/step - loss: 0.1615 - accuracy: 1.0000\n",
            "Epoch 388/500\n",
            "18/18 [==============================] - 0s 3ms/step - loss: 0.1604 - accuracy: 0.9667\n",
            "Epoch 389/500\n",
            "18/18 [==============================] - 0s 2ms/step - loss: 0.1663 - accuracy: 0.9917\n",
            "Epoch 390/500\n",
            "18/18 [==============================] - 0s 2ms/step - loss: 0.1690 - accuracy: 0.9583\n",
            "Epoch 391/500\n",
            "18/18 [==============================] - 0s 2ms/step - loss: 0.1647 - accuracy: 0.9917\n",
            "Epoch 392/500\n",
            "18/18 [==============================] - 0s 3ms/step - loss: 0.1642 - accuracy: 0.9417\n",
            "Epoch 393/500\n",
            "18/18 [==============================] - 0s 2ms/step - loss: 0.1724 - accuracy: 0.9667\n",
            "Epoch 394/500\n",
            "18/18 [==============================] - 0s 2ms/step - loss: 0.1590 - accuracy: 1.0000\n",
            "Epoch 395/500\n",
            "18/18 [==============================] - 0s 2ms/step - loss: 0.1598 - accuracy: 0.9917\n",
            "Epoch 396/500\n",
            "18/18 [==============================] - 0s 2ms/step - loss: 0.1634 - accuracy: 0.9833\n",
            "Epoch 397/500\n",
            "18/18 [==============================] - 0s 2ms/step - loss: 0.1595 - accuracy: 1.0000\n",
            "Epoch 398/500\n",
            "18/18 [==============================] - 0s 3ms/step - loss: 0.1594 - accuracy: 1.0000\n",
            "Epoch 399/500\n",
            "18/18 [==============================] - 0s 2ms/step - loss: 0.1548 - accuracy: 0.9750\n",
            "Epoch 400/500\n",
            "18/18 [==============================] - 0s 2ms/step - loss: 0.1592 - accuracy: 1.0000\n",
            "Epoch 401/500\n",
            "18/18 [==============================] - 0s 2ms/step - loss: 0.1583 - accuracy: 0.9667\n",
            "Epoch 402/500\n",
            "18/18 [==============================] - 0s 3ms/step - loss: 0.1549 - accuracy: 1.0000\n",
            "Epoch 403/500\n",
            "18/18 [==============================] - 0s 2ms/step - loss: 0.1600 - accuracy: 0.9917\n",
            "Epoch 404/500\n",
            "18/18 [==============================] - 0s 3ms/step - loss: 0.1570 - accuracy: 1.0000\n",
            "Epoch 405/500\n",
            "18/18 [==============================] - 0s 2ms/step - loss: 0.1521 - accuracy: 0.9833\n",
            "Epoch 406/500\n",
            "18/18 [==============================] - 0s 4ms/step - loss: 0.1509 - accuracy: 0.9917\n",
            "Epoch 407/500\n",
            "18/18 [==============================] - 0s 2ms/step - loss: 0.1578 - accuracy: 0.9917\n",
            "Epoch 408/500\n",
            "18/18 [==============================] - 0s 2ms/step - loss: 0.1520 - accuracy: 0.9750\n",
            "Epoch 409/500\n",
            "18/18 [==============================] - 0s 2ms/step - loss: 0.1569 - accuracy: 0.9833\n",
            "Epoch 410/500\n",
            "18/18 [==============================] - 0s 2ms/step - loss: 0.1549 - accuracy: 0.9917\n",
            "Epoch 411/500\n",
            "18/18 [==============================] - 0s 2ms/step - loss: 0.1543 - accuracy: 0.9833\n",
            "Epoch 412/500\n",
            "18/18 [==============================] - 0s 3ms/step - loss: 0.1548 - accuracy: 0.9917\n",
            "Epoch 413/500\n",
            "18/18 [==============================] - 0s 3ms/step - loss: 0.1570 - accuracy: 0.9750\n",
            "Epoch 414/500\n",
            "18/18 [==============================] - 0s 2ms/step - loss: 0.1514 - accuracy: 1.0000\n",
            "Epoch 415/500\n",
            "18/18 [==============================] - 0s 2ms/step - loss: 0.1509 - accuracy: 1.0000\n",
            "Epoch 416/500\n",
            "18/18 [==============================] - 0s 3ms/step - loss: 0.1501 - accuracy: 1.0000\n",
            "Epoch 417/500\n",
            "18/18 [==============================] - 0s 3ms/step - loss: 0.1507 - accuracy: 0.9917\n",
            "Epoch 418/500\n",
            "18/18 [==============================] - 0s 3ms/step - loss: 0.1492 - accuracy: 1.0000\n",
            "Epoch 419/500\n",
            "18/18 [==============================] - 0s 2ms/step - loss: 0.1475 - accuracy: 0.9833\n",
            "Epoch 420/500\n",
            "18/18 [==============================] - 0s 2ms/step - loss: 0.1510 - accuracy: 0.9833\n",
            "Epoch 421/500\n",
            "18/18 [==============================] - 0s 2ms/step - loss: 0.1522 - accuracy: 0.9833\n",
            "Epoch 422/500\n",
            "18/18 [==============================] - 0s 2ms/step - loss: 0.1604 - accuracy: 0.9750\n",
            "Epoch 423/500\n",
            "18/18 [==============================] - 0s 2ms/step - loss: 0.1498 - accuracy: 0.9833\n",
            "Epoch 424/500\n",
            "18/18 [==============================] - 0s 4ms/step - loss: 0.1477 - accuracy: 1.0000\n",
            "Epoch 425/500\n",
            "18/18 [==============================] - 0s 3ms/step - loss: 0.1577 - accuracy: 0.9500\n",
            "Epoch 426/500\n",
            "18/18 [==============================] - 0s 2ms/step - loss: 0.1512 - accuracy: 0.9667\n",
            "Epoch 427/500\n",
            "18/18 [==============================] - 0s 4ms/step - loss: 0.1597 - accuracy: 0.9833\n",
            "Epoch 428/500\n",
            "18/18 [==============================] - 0s 3ms/step - loss: 0.1473 - accuracy: 0.9833\n",
            "Epoch 429/500\n",
            "18/18 [==============================] - 0s 3ms/step - loss: 0.1477 - accuracy: 1.0000\n",
            "Epoch 430/500\n",
            "18/18 [==============================] - 0s 3ms/step - loss: 0.1516 - accuracy: 0.9917\n",
            "Epoch 431/500\n",
            "18/18 [==============================] - 0s 2ms/step - loss: 0.1460 - accuracy: 0.9833\n",
            "Epoch 432/500\n",
            "18/18 [==============================] - 0s 2ms/step - loss: 0.1476 - accuracy: 1.0000\n",
            "Epoch 433/500\n",
            "18/18 [==============================] - 0s 2ms/step - loss: 0.1439 - accuracy: 1.0000\n",
            "Epoch 434/500\n",
            "18/18 [==============================] - 0s 3ms/step - loss: 0.1446 - accuracy: 1.0000\n",
            "Epoch 435/500\n",
            "18/18 [==============================] - 0s 2ms/step - loss: 0.1469 - accuracy: 0.9917\n",
            "Epoch 436/500\n",
            "18/18 [==============================] - 0s 2ms/step - loss: 0.1558 - accuracy: 0.9750\n",
            "Epoch 437/500\n",
            "18/18 [==============================] - 0s 2ms/step - loss: 0.1428 - accuracy: 1.0000\n",
            "Epoch 438/500\n",
            "18/18 [==============================] - 0s 3ms/step - loss: 0.1434 - accuracy: 0.9917\n",
            "Epoch 439/500\n",
            "18/18 [==============================] - 0s 2ms/step - loss: 0.1453 - accuracy: 0.9833\n",
            "Epoch 440/500\n",
            "18/18 [==============================] - 0s 3ms/step - loss: 0.1481 - accuracy: 1.0000\n",
            "Epoch 441/500\n",
            "18/18 [==============================] - 0s 2ms/step - loss: 0.1500 - accuracy: 0.9833\n",
            "Epoch 442/500\n",
            "18/18 [==============================] - 0s 3ms/step - loss: 0.1474 - accuracy: 0.9833\n",
            "Epoch 443/500\n",
            "18/18 [==============================] - 0s 3ms/step - loss: 0.1480 - accuracy: 0.9917\n",
            "Epoch 444/500\n",
            "18/18 [==============================] - 0s 2ms/step - loss: 0.1669 - accuracy: 0.9167\n",
            "Epoch 445/500\n",
            "18/18 [==============================] - 0s 4ms/step - loss: 0.1438 - accuracy: 1.0000\n",
            "Epoch 446/500\n",
            "18/18 [==============================] - 0s 3ms/step - loss: 0.1469 - accuracy: 0.9583\n",
            "Epoch 447/500\n",
            "18/18 [==============================] - 0s 2ms/step - loss: 0.1448 - accuracy: 0.9833\n",
            "Epoch 448/500\n",
            "18/18 [==============================] - 0s 3ms/step - loss: 0.1505 - accuracy: 0.9667\n",
            "Epoch 449/500\n",
            "18/18 [==============================] - 0s 3ms/step - loss: 0.1459 - accuracy: 1.0000\n",
            "Epoch 450/500\n",
            "18/18 [==============================] - 0s 3ms/step - loss: 0.1450 - accuracy: 0.9917\n",
            "Epoch 451/500\n",
            "18/18 [==============================] - 0s 2ms/step - loss: 0.1410 - accuracy: 1.0000\n",
            "Epoch 452/500\n",
            "18/18 [==============================] - 0s 3ms/step - loss: 0.1462 - accuracy: 0.9583\n",
            "Epoch 453/500\n",
            "18/18 [==============================] - 0s 3ms/step - loss: 0.1480 - accuracy: 0.9833\n",
            "Epoch 454/500\n",
            "18/18 [==============================] - 0s 2ms/step - loss: 0.1392 - accuracy: 1.0000\n",
            "Epoch 455/500\n",
            "18/18 [==============================] - 0s 2ms/step - loss: 0.1415 - accuracy: 0.9833\n",
            "Epoch 456/500\n",
            "18/18 [==============================] - 0s 3ms/step - loss: 0.1389 - accuracy: 0.9833\n",
            "Epoch 457/500\n",
            "18/18 [==============================] - 0s 2ms/step - loss: 0.1382 - accuracy: 1.0000\n",
            "Epoch 458/500\n",
            "18/18 [==============================] - 0s 2ms/step - loss: 0.1376 - accuracy: 1.0000\n",
            "Epoch 459/500\n",
            "18/18 [==============================] - 0s 2ms/step - loss: 0.1382 - accuracy: 0.9917\n",
            "Epoch 460/500\n",
            "18/18 [==============================] - 0s 3ms/step - loss: 0.1363 - accuracy: 0.9833\n",
            "Epoch 461/500\n",
            "18/18 [==============================] - 0s 3ms/step - loss: 0.1362 - accuracy: 1.0000\n",
            "Epoch 462/500\n",
            "18/18 [==============================] - 0s 2ms/step - loss: 0.1378 - accuracy: 0.9917\n",
            "Epoch 463/500\n",
            "18/18 [==============================] - 0s 2ms/step - loss: 0.1453 - accuracy: 0.9750\n",
            "Epoch 464/500\n",
            "18/18 [==============================] - 0s 2ms/step - loss: 0.1455 - accuracy: 0.9833\n",
            "Epoch 465/500\n",
            "18/18 [==============================] - 0s 2ms/step - loss: 0.1407 - accuracy: 0.9667\n",
            "Epoch 466/500\n",
            "18/18 [==============================] - 0s 2ms/step - loss: 0.1352 - accuracy: 1.0000\n",
            "Epoch 467/500\n",
            "18/18 [==============================] - 0s 2ms/step - loss: 0.1349 - accuracy: 1.0000\n",
            "Epoch 468/500\n",
            "18/18 [==============================] - 0s 2ms/step - loss: 0.1368 - accuracy: 0.9667\n",
            "Epoch 469/500\n",
            "18/18 [==============================] - 0s 2ms/step - loss: 0.1360 - accuracy: 1.0000\n",
            "Epoch 470/500\n",
            "18/18 [==============================] - 0s 2ms/step - loss: 0.1337 - accuracy: 1.0000\n",
            "Epoch 471/500\n",
            "18/18 [==============================] - 0s 2ms/step - loss: 0.1390 - accuracy: 1.0000\n",
            "Epoch 472/500\n",
            "18/18 [==============================] - 0s 2ms/step - loss: 0.1332 - accuracy: 1.0000\n",
            "Epoch 473/500\n",
            "18/18 [==============================] - 0s 2ms/step - loss: 0.1338 - accuracy: 1.0000\n",
            "Epoch 474/500\n",
            "18/18 [==============================] - 0s 2ms/step - loss: 0.1329 - accuracy: 0.9917\n",
            "Epoch 475/500\n",
            "18/18 [==============================] - 0s 2ms/step - loss: 0.1370 - accuracy: 1.0000\n",
            "Epoch 476/500\n",
            "18/18 [==============================] - 0s 2ms/step - loss: 0.1343 - accuracy: 0.9833\n",
            "Epoch 477/500\n",
            "18/18 [==============================] - 0s 2ms/step - loss: 0.1325 - accuracy: 1.0000\n",
            "Epoch 478/500\n",
            "18/18 [==============================] - 0s 2ms/step - loss: 0.1325 - accuracy: 1.0000\n",
            "Epoch 479/500\n",
            "18/18 [==============================] - 0s 2ms/step - loss: 0.1318 - accuracy: 1.0000\n",
            "Epoch 480/500\n",
            "18/18 [==============================] - 0s 2ms/step - loss: 0.1390 - accuracy: 0.9750\n",
            "Epoch 481/500\n",
            "18/18 [==============================] - 0s 3ms/step - loss: 0.1300 - accuracy: 1.0000\n",
            "Epoch 482/500\n",
            "18/18 [==============================] - 0s 3ms/step - loss: 0.1281 - accuracy: 1.0000\n",
            "Epoch 483/500\n",
            "18/18 [==============================] - 0s 2ms/step - loss: 0.1286 - accuracy: 1.0000\n",
            "Epoch 484/500\n",
            "18/18 [==============================] - 0s 2ms/step - loss: 0.1434 - accuracy: 0.9250\n",
            "Epoch 485/500\n",
            "18/18 [==============================] - 0s 2ms/step - loss: 0.1332 - accuracy: 0.9917\n",
            "Epoch 486/500\n",
            "18/18 [==============================] - 0s 2ms/step - loss: 0.1355 - accuracy: 0.9667\n",
            "Epoch 487/500\n",
            "18/18 [==============================] - 0s 2ms/step - loss: 0.1400 - accuracy: 0.9833\n",
            "Epoch 488/500\n",
            "18/18 [==============================] - 0s 2ms/step - loss: 0.1290 - accuracy: 1.0000\n",
            "Epoch 489/500\n",
            "18/18 [==============================] - 0s 2ms/step - loss: 0.1294 - accuracy: 1.0000\n",
            "Epoch 490/500\n",
            "18/18 [==============================] - 0s 2ms/step - loss: 0.1270 - accuracy: 1.0000\n",
            "Epoch 491/500\n",
            "18/18 [==============================] - 0s 3ms/step - loss: 0.1288 - accuracy: 0.9833\n",
            "Epoch 492/500\n",
            "18/18 [==============================] - 0s 2ms/step - loss: 0.1356 - accuracy: 0.9833\n",
            "Epoch 493/500\n",
            "18/18 [==============================] - 0s 2ms/step - loss: 0.1442 - accuracy: 0.9250\n",
            "Epoch 494/500\n",
            "18/18 [==============================] - 0s 2ms/step - loss: 0.1289 - accuracy: 1.0000\n",
            "Epoch 495/500\n",
            "18/18 [==============================] - 0s 2ms/step - loss: 0.1315 - accuracy: 0.9917\n",
            "Epoch 496/500\n",
            "18/18 [==============================] - 0s 2ms/step - loss: 0.1273 - accuracy: 1.0000\n",
            "Epoch 497/500\n",
            "18/18 [==============================] - 0s 2ms/step - loss: 0.1285 - accuracy: 1.0000\n",
            "Epoch 498/500\n",
            "18/18 [==============================] - 0s 2ms/step - loss: 0.1271 - accuracy: 1.0000\n",
            "Epoch 499/500\n",
            "18/18 [==============================] - 0s 2ms/step - loss: 0.1347 - accuracy: 0.9417\n",
            "Epoch 500/500\n",
            "18/18 [==============================] - 0s 2ms/step - loss: 0.1385 - accuracy: 0.9583\n"
          ]
        }
      ]
    },
    {
      "cell_type": "code",
      "source": [
        "_,test=model.evaluate(xtest,ytest)"
      ],
      "metadata": {
        "colab": {
          "base_uri": "https://localhost:8080/"
        },
        "id": "HgrmVBwFOPDG",
        "outputId": "217ea166-415d-4e49-9074-d478b3c5dab4"
      },
      "execution_count": null,
      "outputs": [
        {
          "output_type": "stream",
          "name": "stdout",
          "text": [
            "1/1 [==============================] - 0s 21ms/step - loss: 0.0718 - accuracy: 1.0000\n"
          ]
        }
      ]
    },
    {
      "cell_type": "markdown",
      "source": [
        "## 17-Dans notre cas de base de donnée Iris, est ce qu’il est intéressant d’avoir un réseau de neurones récurrent ou non ? justifier vos réponses."
      ],
      "metadata": {
        "id": "3Yvy3Zh2ObDk"
      }
    },
    {
      "cell_type": "markdown",
      "source": [
        "Dans notre cas de base de donnée Iris,il n'est pas intéressant d’avoir un réseau de neurones récurrent car pour un RNR est un réseau de neurones présentant des connexions récurrentes, utilise des sorties qui sont une combinaison non linéaire de ses entrée,  les données à un instant t dépendent des données à l'instant t-1."
      ],
      "metadata": {
        "id": "-kaxz5TGOqf4"
      }
    }
  ]
}